{
 "cells": [
  {
   "cell_type": "markdown",
   "id": "5b1df1f4-9a06-4522-8201-0ad150d85bb0",
   "metadata": {},
   "source": [
    "\n",
    "<center>\n",
    "    <h1 style=\"background-color: navy; color: white; Font-size:100\">\n",
    "        UCO Bank Analysis\n",
    "    </h1>\n",
    "</center>\n",
    "<BR>\n"
   ]
  },
  {
   "cell_type": "markdown",
   "id": "d0eb2e15-b14e-4aea-994e-2e3d86fa84a8",
   "metadata": {},
   "source": [
    "  <center > <img src=\"https://tse4.mm.bing.net/th?id=OIP.kkMJ6nPEaK8b8EaLqONPTwHaB7&pid=Api&P=0&h=180\" width = 900  ></center>"
   ]
  },
  {
   "cell_type": "markdown",
   "id": "22bd76b1-20a8-4d82-a98b-5be9944df7f5",
   "metadata": {},
   "source": [
    " \n",
    " <center>\n",
    "    <h1 style=\"background-color: navy; color: white;\">\n",
    "        What is UCO Bank ?\n",
    "    </h1>\n",
    "</center>\n",
    "<BR>"
   ]
  },
  {
   "cell_type": "markdown",
   "id": "8ea887ac-7557-4c16-8275-e205d135b6f8",
   "metadata": {},
   "source": [
    " - **UCO Bank, formerly known as United Commercial Bank, is a prominent public sector bank in India, established in 1943 by industrialist Ghanshyam Das Birla. Headquartered in Kolkata, it is one of the oldest and most trusted banks in the country. Initially founded to support financial needs during India’s independence movement, UCO Bank has grown into a major banking institution with an extensive network of branches and ATMs across India and international operations in Hong Kong and Singapore.**\n",
    "\n",
    " - **The bank offers a wide range of services, including retail and corporate banking, rural and MSME banking, and digital banking solutions. It provides savings and current accounts, personal and business loans, fixed deposits, credit cards, insurance products, and investment options. UCO Bank actively participates in financial inclusion initiatives such as the Pradhan Mantri Jan Dhan Yojana, empowering rural and underserved communities. Known for its customer-centric approach, the bank blends traditional banking values with modern digital services, making it a significant player in India’s financial sector.**"
   ]
  },
  {
   "cell_type": "markdown",
   "id": "1d9596c7-f980-4734-b602-e4ec0409510f",
   "metadata": {},
   "source": [
    "<center>\n",
    "    <h1 style=\"background-color: navy; color: white;\">\n",
    "        EXPLORATORY DATA ANALYSIS\n",
    "    </h1>\n",
    "</center>\n"
   ]
  },
  {
   "cell_type": "markdown",
   "id": "158bbd89-4720-4837-a405-69a14384b662",
   "metadata": {},
   "source": [
    " \n",
    "\n",
    " <center>\n",
    "    <h2 style=\"background-color: navy; color: white;\">\n",
    "        IMPORTING LIBRARIES FOR DATA ANALYSIS\n",
    "    </h2>\n",
    "</center>"
   ]
  },
  {
   "cell_type": "code",
   "execution_count": 74,
   "id": "df4a9153-8f5d-4392-94a8-6d649e85c873",
   "metadata": {},
   "outputs": [],
   "source": [
    "import numpy as np\n",
    "import pandas as pd \n",
    "import matplotlib.pyplot as plt\n",
    "import seaborn as sns"
   ]
  },
  {
   "cell_type": "markdown",
   "id": "d9bb638c-3e8d-4a3d-959a-6c24bfbb75c9",
   "metadata": {},
   "source": [
    "<center>\n",
    "    <h1 style=\"background-color: navy; color: white;\">\n",
    "        LODING AND CHEKING DATASET\n",
    "    </h1>\n",
    "</center>\n"
   ]
  },
  {
   "cell_type": "markdown",
   "id": "0efac3ce-226e-442e-9e86-638a286879b8",
   "metadata": {},
   "source": [
    "<center>\n",
    "    <h1 style=\"background-color: navy; color: white;\">\n",
    "        Code Loads The Bank data dictionary from a CSV file\n",
    "    </h1>\n",
    "</center>\n"
   ]
  },
  {
   "cell_type": "code",
   "execution_count": 75,
   "id": "6c938231-4039-4ae3-953e-727edc20596b",
   "metadata": {},
   "outputs": [
    {
     "name": "stdout",
     "output_type": "stream",
     "text": [
      "      age            job  marital  education default  balance housing loan  \\\n",
      "0      30     unemployed  married    primary      no   1787.0      no   no   \n",
      "1      33       services  married  secondary      no   4789.0     yes  yes   \n",
      "2      35     management   single   tertiary      no   1350.0     yes   no   \n",
      "3      30     management  married   tertiary      no   1476.0     yes  yes   \n",
      "4      59    blue-collar  married  secondary      no      0.0     yes   no   \n",
      "...   ...            ...      ...        ...     ...      ...     ...  ...   \n",
      "4516   33       services  married  secondary      no   -333.0     yes   no   \n",
      "4517   57  self-employed  married   tertiary     yes  -3313.0     yes  yes   \n",
      "4518   57     technician  married  secondary      no    295.0      no   no   \n",
      "4519   28    blue-collar  married  secondary      no   1137.0      no   no   \n",
      "4520   44   entrepreneur   single   tertiary      no   1136.0     yes  yes   \n",
      "\n",
      "       contact  day month  duration  campaign  pdays  previous poutcome   y  \n",
      "0     cellular   19   oct        79       1.0     -1         0  unknown  no  \n",
      "1     cellular   11   may       220       1.0    339         4  failure  no  \n",
      "2     cellular   16   apr       185       1.0    330         1  failure  no  \n",
      "3      unknown    3   jun       199       NaN     -1         0  unknown  no  \n",
      "4      unknown    5   may       226       NaN     -1         0  unknown  no  \n",
      "...        ...  ...   ...       ...       ...    ...       ...      ...  ..  \n",
      "4516  cellular   30   jul       329       5.0     -1         0  unknown  no  \n",
      "4517   unknown    9   may       153       1.0     -1         0  unknown  no  \n",
      "4518  cellular   19   aug       151      11.0     -1         0  unknown  no  \n",
      "4519  cellular    6   feb       129       4.0    211         3    other  no  \n",
      "4520  cellular    3   apr       345       2.0    249         7    other  no  \n",
      "\n",
      "[4521 rows x 17 columns]\n"
     ]
    }
   ],
   "source": [
    "data = pd.read_csv(r'C:\\Users\\mohit\\OneDrive\\Documents\\DATASET\\bank.csv')\n",
    "\n",
    "print(data)"
   ]
  },
  {
   "cell_type": "markdown",
   "id": "b9a2f4d7-5c58-4802-95ec-3a60e35a55ea",
   "metadata": {},
   "source": [
    "<center>\n",
    "    <h2 style=\"background-color: navy; color: white;\">\n",
    "       Copying the dataset to df and displaying it. </h2>\n",
    "</center>"
   ]
  },
  {
   "cell_type": "code",
   "execution_count": 76,
   "id": "0168e56a-e5af-4f45-a9d9-91613ef059b5",
   "metadata": {},
   "outputs": [
    {
     "data": {
      "text/html": [
       "<div>\n",
       "<style scoped>\n",
       "    .dataframe tbody tr th:only-of-type {\n",
       "        vertical-align: middle;\n",
       "    }\n",
       "\n",
       "    .dataframe tbody tr th {\n",
       "        vertical-align: top;\n",
       "    }\n",
       "\n",
       "    .dataframe thead th {\n",
       "        text-align: right;\n",
       "    }\n",
       "</style>\n",
       "<table border=\"1\" class=\"dataframe\">\n",
       "  <thead>\n",
       "    <tr style=\"text-align: right;\">\n",
       "      <th></th>\n",
       "      <th>age</th>\n",
       "      <th>job</th>\n",
       "      <th>marital</th>\n",
       "      <th>education</th>\n",
       "      <th>default</th>\n",
       "      <th>balance</th>\n",
       "      <th>housing</th>\n",
       "      <th>loan</th>\n",
       "      <th>contact</th>\n",
       "      <th>day</th>\n",
       "      <th>month</th>\n",
       "      <th>duration</th>\n",
       "      <th>campaign</th>\n",
       "      <th>pdays</th>\n",
       "      <th>previous</th>\n",
       "      <th>poutcome</th>\n",
       "      <th>y</th>\n",
       "    </tr>\n",
       "  </thead>\n",
       "  <tbody>\n",
       "    <tr>\n",
       "      <th>0</th>\n",
       "      <td>30</td>\n",
       "      <td>unemployed</td>\n",
       "      <td>married</td>\n",
       "      <td>primary</td>\n",
       "      <td>no</td>\n",
       "      <td>1787.0</td>\n",
       "      <td>no</td>\n",
       "      <td>no</td>\n",
       "      <td>cellular</td>\n",
       "      <td>19</td>\n",
       "      <td>oct</td>\n",
       "      <td>79</td>\n",
       "      <td>1.0</td>\n",
       "      <td>-1</td>\n",
       "      <td>0</td>\n",
       "      <td>unknown</td>\n",
       "      <td>no</td>\n",
       "    </tr>\n",
       "    <tr>\n",
       "      <th>1</th>\n",
       "      <td>33</td>\n",
       "      <td>services</td>\n",
       "      <td>married</td>\n",
       "      <td>secondary</td>\n",
       "      <td>no</td>\n",
       "      <td>4789.0</td>\n",
       "      <td>yes</td>\n",
       "      <td>yes</td>\n",
       "      <td>cellular</td>\n",
       "      <td>11</td>\n",
       "      <td>may</td>\n",
       "      <td>220</td>\n",
       "      <td>1.0</td>\n",
       "      <td>339</td>\n",
       "      <td>4</td>\n",
       "      <td>failure</td>\n",
       "      <td>no</td>\n",
       "    </tr>\n",
       "    <tr>\n",
       "      <th>2</th>\n",
       "      <td>35</td>\n",
       "      <td>management</td>\n",
       "      <td>single</td>\n",
       "      <td>tertiary</td>\n",
       "      <td>no</td>\n",
       "      <td>1350.0</td>\n",
       "      <td>yes</td>\n",
       "      <td>no</td>\n",
       "      <td>cellular</td>\n",
       "      <td>16</td>\n",
       "      <td>apr</td>\n",
       "      <td>185</td>\n",
       "      <td>1.0</td>\n",
       "      <td>330</td>\n",
       "      <td>1</td>\n",
       "      <td>failure</td>\n",
       "      <td>no</td>\n",
       "    </tr>\n",
       "    <tr>\n",
       "      <th>3</th>\n",
       "      <td>30</td>\n",
       "      <td>management</td>\n",
       "      <td>married</td>\n",
       "      <td>tertiary</td>\n",
       "      <td>no</td>\n",
       "      <td>1476.0</td>\n",
       "      <td>yes</td>\n",
       "      <td>yes</td>\n",
       "      <td>unknown</td>\n",
       "      <td>3</td>\n",
       "      <td>jun</td>\n",
       "      <td>199</td>\n",
       "      <td>NaN</td>\n",
       "      <td>-1</td>\n",
       "      <td>0</td>\n",
       "      <td>unknown</td>\n",
       "      <td>no</td>\n",
       "    </tr>\n",
       "    <tr>\n",
       "      <th>4</th>\n",
       "      <td>59</td>\n",
       "      <td>blue-collar</td>\n",
       "      <td>married</td>\n",
       "      <td>secondary</td>\n",
       "      <td>no</td>\n",
       "      <td>0.0</td>\n",
       "      <td>yes</td>\n",
       "      <td>no</td>\n",
       "      <td>unknown</td>\n",
       "      <td>5</td>\n",
       "      <td>may</td>\n",
       "      <td>226</td>\n",
       "      <td>NaN</td>\n",
       "      <td>-1</td>\n",
       "      <td>0</td>\n",
       "      <td>unknown</td>\n",
       "      <td>no</td>\n",
       "    </tr>\n",
       "    <tr>\n",
       "      <th>...</th>\n",
       "      <td>...</td>\n",
       "      <td>...</td>\n",
       "      <td>...</td>\n",
       "      <td>...</td>\n",
       "      <td>...</td>\n",
       "      <td>...</td>\n",
       "      <td>...</td>\n",
       "      <td>...</td>\n",
       "      <td>...</td>\n",
       "      <td>...</td>\n",
       "      <td>...</td>\n",
       "      <td>...</td>\n",
       "      <td>...</td>\n",
       "      <td>...</td>\n",
       "      <td>...</td>\n",
       "      <td>...</td>\n",
       "      <td>...</td>\n",
       "    </tr>\n",
       "    <tr>\n",
       "      <th>4516</th>\n",
       "      <td>33</td>\n",
       "      <td>services</td>\n",
       "      <td>married</td>\n",
       "      <td>secondary</td>\n",
       "      <td>no</td>\n",
       "      <td>-333.0</td>\n",
       "      <td>yes</td>\n",
       "      <td>no</td>\n",
       "      <td>cellular</td>\n",
       "      <td>30</td>\n",
       "      <td>jul</td>\n",
       "      <td>329</td>\n",
       "      <td>5.0</td>\n",
       "      <td>-1</td>\n",
       "      <td>0</td>\n",
       "      <td>unknown</td>\n",
       "      <td>no</td>\n",
       "    </tr>\n",
       "    <tr>\n",
       "      <th>4517</th>\n",
       "      <td>57</td>\n",
       "      <td>self-employed</td>\n",
       "      <td>married</td>\n",
       "      <td>tertiary</td>\n",
       "      <td>yes</td>\n",
       "      <td>-3313.0</td>\n",
       "      <td>yes</td>\n",
       "      <td>yes</td>\n",
       "      <td>unknown</td>\n",
       "      <td>9</td>\n",
       "      <td>may</td>\n",
       "      <td>153</td>\n",
       "      <td>1.0</td>\n",
       "      <td>-1</td>\n",
       "      <td>0</td>\n",
       "      <td>unknown</td>\n",
       "      <td>no</td>\n",
       "    </tr>\n",
       "    <tr>\n",
       "      <th>4518</th>\n",
       "      <td>57</td>\n",
       "      <td>technician</td>\n",
       "      <td>married</td>\n",
       "      <td>secondary</td>\n",
       "      <td>no</td>\n",
       "      <td>295.0</td>\n",
       "      <td>no</td>\n",
       "      <td>no</td>\n",
       "      <td>cellular</td>\n",
       "      <td>19</td>\n",
       "      <td>aug</td>\n",
       "      <td>151</td>\n",
       "      <td>11.0</td>\n",
       "      <td>-1</td>\n",
       "      <td>0</td>\n",
       "      <td>unknown</td>\n",
       "      <td>no</td>\n",
       "    </tr>\n",
       "    <tr>\n",
       "      <th>4519</th>\n",
       "      <td>28</td>\n",
       "      <td>blue-collar</td>\n",
       "      <td>married</td>\n",
       "      <td>secondary</td>\n",
       "      <td>no</td>\n",
       "      <td>1137.0</td>\n",
       "      <td>no</td>\n",
       "      <td>no</td>\n",
       "      <td>cellular</td>\n",
       "      <td>6</td>\n",
       "      <td>feb</td>\n",
       "      <td>129</td>\n",
       "      <td>4.0</td>\n",
       "      <td>211</td>\n",
       "      <td>3</td>\n",
       "      <td>other</td>\n",
       "      <td>no</td>\n",
       "    </tr>\n",
       "    <tr>\n",
       "      <th>4520</th>\n",
       "      <td>44</td>\n",
       "      <td>entrepreneur</td>\n",
       "      <td>single</td>\n",
       "      <td>tertiary</td>\n",
       "      <td>no</td>\n",
       "      <td>1136.0</td>\n",
       "      <td>yes</td>\n",
       "      <td>yes</td>\n",
       "      <td>cellular</td>\n",
       "      <td>3</td>\n",
       "      <td>apr</td>\n",
       "      <td>345</td>\n",
       "      <td>2.0</td>\n",
       "      <td>249</td>\n",
       "      <td>7</td>\n",
       "      <td>other</td>\n",
       "      <td>no</td>\n",
       "    </tr>\n",
       "  </tbody>\n",
       "</table>\n",
       "<p>4521 rows × 17 columns</p>\n",
       "</div>"
      ],
      "text/plain": [
       "      age            job  marital  education default  balance housing loan  \\\n",
       "0      30     unemployed  married    primary      no   1787.0      no   no   \n",
       "1      33       services  married  secondary      no   4789.0     yes  yes   \n",
       "2      35     management   single   tertiary      no   1350.0     yes   no   \n",
       "3      30     management  married   tertiary      no   1476.0     yes  yes   \n",
       "4      59    blue-collar  married  secondary      no      0.0     yes   no   \n",
       "...   ...            ...      ...        ...     ...      ...     ...  ...   \n",
       "4516   33       services  married  secondary      no   -333.0     yes   no   \n",
       "4517   57  self-employed  married   tertiary     yes  -3313.0     yes  yes   \n",
       "4518   57     technician  married  secondary      no    295.0      no   no   \n",
       "4519   28    blue-collar  married  secondary      no   1137.0      no   no   \n",
       "4520   44   entrepreneur   single   tertiary      no   1136.0     yes  yes   \n",
       "\n",
       "       contact  day month  duration  campaign  pdays  previous poutcome   y  \n",
       "0     cellular   19   oct        79       1.0     -1         0  unknown  no  \n",
       "1     cellular   11   may       220       1.0    339         4  failure  no  \n",
       "2     cellular   16   apr       185       1.0    330         1  failure  no  \n",
       "3      unknown    3   jun       199       NaN     -1         0  unknown  no  \n",
       "4      unknown    5   may       226       NaN     -1         0  unknown  no  \n",
       "...        ...  ...   ...       ...       ...    ...       ...      ...  ..  \n",
       "4516  cellular   30   jul       329       5.0     -1         0  unknown  no  \n",
       "4517   unknown    9   may       153       1.0     -1         0  unknown  no  \n",
       "4518  cellular   19   aug       151      11.0     -1         0  unknown  no  \n",
       "4519  cellular    6   feb       129       4.0    211         3    other  no  \n",
       "4520  cellular    3   apr       345       2.0    249         7    other  no  \n",
       "\n",
       "[4521 rows x 17 columns]"
      ]
     },
     "execution_count": 76,
     "metadata": {},
     "output_type": "execute_result"
    }
   ],
   "source": [
    "df = data.copy() \n",
    "df "
   ]
  },
  {
   "cell_type": "markdown",
   "id": "2483652a-9e93-4e58-83b3-af83d3811957",
   "metadata": {},
   "source": [
    "<center>\n",
    "    <h2 style=\"background-color: navy; color: white;\">\n",
    "       Displays the first 5 rows of the dataset df. </h2>\n",
    "</center>"
   ]
  },
  {
   "cell_type": "code",
   "execution_count": 77,
   "id": "22721d06-a14c-44b8-9516-697451840789",
   "metadata": {},
   "outputs": [
    {
     "data": {
      "text/html": [
       "<div>\n",
       "<style scoped>\n",
       "    .dataframe tbody tr th:only-of-type {\n",
       "        vertical-align: middle;\n",
       "    }\n",
       "\n",
       "    .dataframe tbody tr th {\n",
       "        vertical-align: top;\n",
       "    }\n",
       "\n",
       "    .dataframe thead th {\n",
       "        text-align: right;\n",
       "    }\n",
       "</style>\n",
       "<table border=\"1\" class=\"dataframe\">\n",
       "  <thead>\n",
       "    <tr style=\"text-align: right;\">\n",
       "      <th></th>\n",
       "      <th>age</th>\n",
       "      <th>job</th>\n",
       "      <th>marital</th>\n",
       "      <th>education</th>\n",
       "      <th>default</th>\n",
       "      <th>balance</th>\n",
       "      <th>housing</th>\n",
       "      <th>loan</th>\n",
       "      <th>contact</th>\n",
       "      <th>day</th>\n",
       "      <th>month</th>\n",
       "      <th>duration</th>\n",
       "      <th>campaign</th>\n",
       "      <th>pdays</th>\n",
       "      <th>previous</th>\n",
       "      <th>poutcome</th>\n",
       "      <th>y</th>\n",
       "    </tr>\n",
       "  </thead>\n",
       "  <tbody>\n",
       "    <tr>\n",
       "      <th>0</th>\n",
       "      <td>30</td>\n",
       "      <td>unemployed</td>\n",
       "      <td>married</td>\n",
       "      <td>primary</td>\n",
       "      <td>no</td>\n",
       "      <td>1787.0</td>\n",
       "      <td>no</td>\n",
       "      <td>no</td>\n",
       "      <td>cellular</td>\n",
       "      <td>19</td>\n",
       "      <td>oct</td>\n",
       "      <td>79</td>\n",
       "      <td>1.0</td>\n",
       "      <td>-1</td>\n",
       "      <td>0</td>\n",
       "      <td>unknown</td>\n",
       "      <td>no</td>\n",
       "    </tr>\n",
       "    <tr>\n",
       "      <th>1</th>\n",
       "      <td>33</td>\n",
       "      <td>services</td>\n",
       "      <td>married</td>\n",
       "      <td>secondary</td>\n",
       "      <td>no</td>\n",
       "      <td>4789.0</td>\n",
       "      <td>yes</td>\n",
       "      <td>yes</td>\n",
       "      <td>cellular</td>\n",
       "      <td>11</td>\n",
       "      <td>may</td>\n",
       "      <td>220</td>\n",
       "      <td>1.0</td>\n",
       "      <td>339</td>\n",
       "      <td>4</td>\n",
       "      <td>failure</td>\n",
       "      <td>no</td>\n",
       "    </tr>\n",
       "    <tr>\n",
       "      <th>2</th>\n",
       "      <td>35</td>\n",
       "      <td>management</td>\n",
       "      <td>single</td>\n",
       "      <td>tertiary</td>\n",
       "      <td>no</td>\n",
       "      <td>1350.0</td>\n",
       "      <td>yes</td>\n",
       "      <td>no</td>\n",
       "      <td>cellular</td>\n",
       "      <td>16</td>\n",
       "      <td>apr</td>\n",
       "      <td>185</td>\n",
       "      <td>1.0</td>\n",
       "      <td>330</td>\n",
       "      <td>1</td>\n",
       "      <td>failure</td>\n",
       "      <td>no</td>\n",
       "    </tr>\n",
       "    <tr>\n",
       "      <th>3</th>\n",
       "      <td>30</td>\n",
       "      <td>management</td>\n",
       "      <td>married</td>\n",
       "      <td>tertiary</td>\n",
       "      <td>no</td>\n",
       "      <td>1476.0</td>\n",
       "      <td>yes</td>\n",
       "      <td>yes</td>\n",
       "      <td>unknown</td>\n",
       "      <td>3</td>\n",
       "      <td>jun</td>\n",
       "      <td>199</td>\n",
       "      <td>NaN</td>\n",
       "      <td>-1</td>\n",
       "      <td>0</td>\n",
       "      <td>unknown</td>\n",
       "      <td>no</td>\n",
       "    </tr>\n",
       "    <tr>\n",
       "      <th>4</th>\n",
       "      <td>59</td>\n",
       "      <td>blue-collar</td>\n",
       "      <td>married</td>\n",
       "      <td>secondary</td>\n",
       "      <td>no</td>\n",
       "      <td>0.0</td>\n",
       "      <td>yes</td>\n",
       "      <td>no</td>\n",
       "      <td>unknown</td>\n",
       "      <td>5</td>\n",
       "      <td>may</td>\n",
       "      <td>226</td>\n",
       "      <td>NaN</td>\n",
       "      <td>-1</td>\n",
       "      <td>0</td>\n",
       "      <td>unknown</td>\n",
       "      <td>no</td>\n",
       "    </tr>\n",
       "  </tbody>\n",
       "</table>\n",
       "</div>"
      ],
      "text/plain": [
       "   age          job  marital  education default  balance housing loan  \\\n",
       "0   30   unemployed  married    primary      no   1787.0      no   no   \n",
       "1   33     services  married  secondary      no   4789.0     yes  yes   \n",
       "2   35   management   single   tertiary      no   1350.0     yes   no   \n",
       "3   30   management  married   tertiary      no   1476.0     yes  yes   \n",
       "4   59  blue-collar  married  secondary      no      0.0     yes   no   \n",
       "\n",
       "    contact  day month  duration  campaign  pdays  previous poutcome   y  \n",
       "0  cellular   19   oct        79       1.0     -1         0  unknown  no  \n",
       "1  cellular   11   may       220       1.0    339         4  failure  no  \n",
       "2  cellular   16   apr       185       1.0    330         1  failure  no  \n",
       "3   unknown    3   jun       199       NaN     -1         0  unknown  no  \n",
       "4   unknown    5   may       226       NaN     -1         0  unknown  no  "
      ]
     },
     "execution_count": 77,
     "metadata": {},
     "output_type": "execute_result"
    }
   ],
   "source": [
    "df.head()"
   ]
  },
  {
   "cell_type": "markdown",
   "id": "c3100bde-1fe9-4d58-aae1-af28e914fcb6",
   "metadata": {},
   "source": [
    "<center>\n",
    "    <h2 style=\"background-color: navy; color: white;\">\n",
    "       Displays the last 5 rows of the dataset df. </h2>\n",
    "</center>"
   ]
  },
  {
   "cell_type": "code",
   "execution_count": 93,
   "id": "bf9401f6-24a5-4ea1-a388-497f24882be2",
   "metadata": {},
   "outputs": [
    {
     "data": {
      "text/html": [
       "<div>\n",
       "<style scoped>\n",
       "    .dataframe tbody tr th:only-of-type {\n",
       "        vertical-align: middle;\n",
       "    }\n",
       "\n",
       "    .dataframe tbody tr th {\n",
       "        vertical-align: top;\n",
       "    }\n",
       "\n",
       "    .dataframe thead th {\n",
       "        text-align: right;\n",
       "    }\n",
       "</style>\n",
       "<table border=\"1\" class=\"dataframe\">\n",
       "  <thead>\n",
       "    <tr style=\"text-align: right;\">\n",
       "      <th></th>\n",
       "      <th>Age</th>\n",
       "      <th>Job</th>\n",
       "      <th>Marital</th>\n",
       "      <th>Education</th>\n",
       "      <th>Default</th>\n",
       "      <th>Balance</th>\n",
       "      <th>Housing</th>\n",
       "      <th>Loan</th>\n",
       "      <th>Contact</th>\n",
       "      <th>Day</th>\n",
       "      <th>Month</th>\n",
       "      <th>Duration</th>\n",
       "      <th>Campaign</th>\n",
       "      <th>Pdays</th>\n",
       "      <th>Previous</th>\n",
       "      <th>Poutcome</th>\n",
       "      <th>Y</th>\n",
       "    </tr>\n",
       "  </thead>\n",
       "  <tbody>\n",
       "    <tr>\n",
       "      <th>4516</th>\n",
       "      <td>33</td>\n",
       "      <td>services</td>\n",
       "      <td>married</td>\n",
       "      <td>secondary</td>\n",
       "      <td>no</td>\n",
       "      <td>-333.0</td>\n",
       "      <td>yes</td>\n",
       "      <td>no</td>\n",
       "      <td>cellular</td>\n",
       "      <td>30</td>\n",
       "      <td>jul</td>\n",
       "      <td>329</td>\n",
       "      <td>5.0</td>\n",
       "      <td>-1</td>\n",
       "      <td>0</td>\n",
       "      <td>unknown</td>\n",
       "      <td>no</td>\n",
       "    </tr>\n",
       "    <tr>\n",
       "      <th>4517</th>\n",
       "      <td>57</td>\n",
       "      <td>self-employed</td>\n",
       "      <td>married</td>\n",
       "      <td>tertiary</td>\n",
       "      <td>yes</td>\n",
       "      <td>-3313.0</td>\n",
       "      <td>yes</td>\n",
       "      <td>yes</td>\n",
       "      <td>unknown</td>\n",
       "      <td>9</td>\n",
       "      <td>may</td>\n",
       "      <td>153</td>\n",
       "      <td>1.0</td>\n",
       "      <td>-1</td>\n",
       "      <td>0</td>\n",
       "      <td>unknown</td>\n",
       "      <td>no</td>\n",
       "    </tr>\n",
       "    <tr>\n",
       "      <th>4518</th>\n",
       "      <td>57</td>\n",
       "      <td>technician</td>\n",
       "      <td>married</td>\n",
       "      <td>secondary</td>\n",
       "      <td>no</td>\n",
       "      <td>295.0</td>\n",
       "      <td>no</td>\n",
       "      <td>no</td>\n",
       "      <td>cellular</td>\n",
       "      <td>19</td>\n",
       "      <td>aug</td>\n",
       "      <td>151</td>\n",
       "      <td>11.0</td>\n",
       "      <td>-1</td>\n",
       "      <td>0</td>\n",
       "      <td>unknown</td>\n",
       "      <td>no</td>\n",
       "    </tr>\n",
       "    <tr>\n",
       "      <th>4519</th>\n",
       "      <td>28</td>\n",
       "      <td>blue-collar</td>\n",
       "      <td>married</td>\n",
       "      <td>secondary</td>\n",
       "      <td>no</td>\n",
       "      <td>1137.0</td>\n",
       "      <td>no</td>\n",
       "      <td>no</td>\n",
       "      <td>cellular</td>\n",
       "      <td>6</td>\n",
       "      <td>feb</td>\n",
       "      <td>129</td>\n",
       "      <td>4.0</td>\n",
       "      <td>211</td>\n",
       "      <td>3</td>\n",
       "      <td>other</td>\n",
       "      <td>no</td>\n",
       "    </tr>\n",
       "    <tr>\n",
       "      <th>4520</th>\n",
       "      <td>44</td>\n",
       "      <td>entrepreneur</td>\n",
       "      <td>single</td>\n",
       "      <td>tertiary</td>\n",
       "      <td>no</td>\n",
       "      <td>1136.0</td>\n",
       "      <td>yes</td>\n",
       "      <td>yes</td>\n",
       "      <td>cellular</td>\n",
       "      <td>3</td>\n",
       "      <td>apr</td>\n",
       "      <td>345</td>\n",
       "      <td>2.0</td>\n",
       "      <td>249</td>\n",
       "      <td>7</td>\n",
       "      <td>other</td>\n",
       "      <td>no</td>\n",
       "    </tr>\n",
       "  </tbody>\n",
       "</table>\n",
       "</div>"
      ],
      "text/plain": [
       "      Age            Job  Marital  Education Default  Balance Housing Loan  \\\n",
       "4516   33       services  married  secondary      no   -333.0     yes   no   \n",
       "4517   57  self-employed  married   tertiary     yes  -3313.0     yes  yes   \n",
       "4518   57     technician  married  secondary      no    295.0      no   no   \n",
       "4519   28    blue-collar  married  secondary      no   1137.0      no   no   \n",
       "4520   44   entrepreneur   single   tertiary      no   1136.0     yes  yes   \n",
       "\n",
       "       Contact  Day Month  Duration  Campaign  Pdays  Previous Poutcome   Y  \n",
       "4516  cellular   30   jul       329       5.0     -1         0  unknown  no  \n",
       "4517   unknown    9   may       153       1.0     -1         0  unknown  no  \n",
       "4518  cellular   19   aug       151      11.0     -1         0  unknown  no  \n",
       "4519  cellular    6   feb       129       4.0    211         3    other  no  \n",
       "4520  cellular    3   apr       345       2.0    249         7    other  no  "
      ]
     },
     "execution_count": 93,
     "metadata": {},
     "output_type": "execute_result"
    }
   ],
   "source": [
    "df.tail()"
   ]
  },
  {
   "cell_type": "markdown",
   "id": "a4eb9927-9970-4f38-a7be-5339dcdc7494",
   "metadata": {},
   "source": [
    "<center>\n",
    "    <h2 style=\"background-color: navy; color: white;\">\n",
    "     Displays the list of column names in the dataset df. </h2>\n",
    "</center>"
   ]
  },
  {
   "cell_type": "code",
   "execution_count": 78,
   "id": "07463c65-6de6-4e85-9438-894d75682785",
   "metadata": {},
   "outputs": [
    {
     "data": {
      "text/plain": [
       "Index(['age', 'job', 'marital', 'education', 'default', 'balance', 'housing',\n",
       "       'loan', 'contact', 'day', 'month', 'duration', 'campaign', 'pdays',\n",
       "       'previous', 'poutcome', 'y'],\n",
       "      dtype='object')"
      ]
     },
     "execution_count": 78,
     "metadata": {},
     "output_type": "execute_result"
    }
   ],
   "source": [
    "df.columns"
   ]
  },
  {
   "cell_type": "markdown",
   "id": "7e0952ea-423a-446d-9890-034edf542a11",
   "metadata": {},
   "source": [
    "<center>\n",
    "    <h2 style=\"background-color: navy; color: white;\">\n",
    "     Capitalizes column names in df and displays it. </h2>\n",
    "</center>"
   ]
  },
  {
   "cell_type": "code",
   "execution_count": 79,
   "id": "bb074987-4567-402e-a7de-88a83a16dab6",
   "metadata": {},
   "outputs": [
    {
     "data": {
      "text/html": [
       "<div>\n",
       "<style scoped>\n",
       "    .dataframe tbody tr th:only-of-type {\n",
       "        vertical-align: middle;\n",
       "    }\n",
       "\n",
       "    .dataframe tbody tr th {\n",
       "        vertical-align: top;\n",
       "    }\n",
       "\n",
       "    .dataframe thead th {\n",
       "        text-align: right;\n",
       "    }\n",
       "</style>\n",
       "<table border=\"1\" class=\"dataframe\">\n",
       "  <thead>\n",
       "    <tr style=\"text-align: right;\">\n",
       "      <th></th>\n",
       "      <th>Age</th>\n",
       "      <th>Job</th>\n",
       "      <th>Marital</th>\n",
       "      <th>Education</th>\n",
       "      <th>Default</th>\n",
       "      <th>Balance</th>\n",
       "      <th>Housing</th>\n",
       "      <th>Loan</th>\n",
       "      <th>Contact</th>\n",
       "      <th>Day</th>\n",
       "      <th>Month</th>\n",
       "      <th>Duration</th>\n",
       "      <th>Campaign</th>\n",
       "      <th>Pdays</th>\n",
       "      <th>Previous</th>\n",
       "      <th>Poutcome</th>\n",
       "      <th>Y</th>\n",
       "    </tr>\n",
       "  </thead>\n",
       "  <tbody>\n",
       "    <tr>\n",
       "      <th>0</th>\n",
       "      <td>30</td>\n",
       "      <td>unemployed</td>\n",
       "      <td>married</td>\n",
       "      <td>primary</td>\n",
       "      <td>no</td>\n",
       "      <td>1787.0</td>\n",
       "      <td>no</td>\n",
       "      <td>no</td>\n",
       "      <td>cellular</td>\n",
       "      <td>19</td>\n",
       "      <td>oct</td>\n",
       "      <td>79</td>\n",
       "      <td>1.0</td>\n",
       "      <td>-1</td>\n",
       "      <td>0</td>\n",
       "      <td>unknown</td>\n",
       "      <td>no</td>\n",
       "    </tr>\n",
       "    <tr>\n",
       "      <th>1</th>\n",
       "      <td>33</td>\n",
       "      <td>services</td>\n",
       "      <td>married</td>\n",
       "      <td>secondary</td>\n",
       "      <td>no</td>\n",
       "      <td>4789.0</td>\n",
       "      <td>yes</td>\n",
       "      <td>yes</td>\n",
       "      <td>cellular</td>\n",
       "      <td>11</td>\n",
       "      <td>may</td>\n",
       "      <td>220</td>\n",
       "      <td>1.0</td>\n",
       "      <td>339</td>\n",
       "      <td>4</td>\n",
       "      <td>failure</td>\n",
       "      <td>no</td>\n",
       "    </tr>\n",
       "    <tr>\n",
       "      <th>2</th>\n",
       "      <td>35</td>\n",
       "      <td>management</td>\n",
       "      <td>single</td>\n",
       "      <td>tertiary</td>\n",
       "      <td>no</td>\n",
       "      <td>1350.0</td>\n",
       "      <td>yes</td>\n",
       "      <td>no</td>\n",
       "      <td>cellular</td>\n",
       "      <td>16</td>\n",
       "      <td>apr</td>\n",
       "      <td>185</td>\n",
       "      <td>1.0</td>\n",
       "      <td>330</td>\n",
       "      <td>1</td>\n",
       "      <td>failure</td>\n",
       "      <td>no</td>\n",
       "    </tr>\n",
       "    <tr>\n",
       "      <th>3</th>\n",
       "      <td>30</td>\n",
       "      <td>management</td>\n",
       "      <td>married</td>\n",
       "      <td>tertiary</td>\n",
       "      <td>no</td>\n",
       "      <td>1476.0</td>\n",
       "      <td>yes</td>\n",
       "      <td>yes</td>\n",
       "      <td>unknown</td>\n",
       "      <td>3</td>\n",
       "      <td>jun</td>\n",
       "      <td>199</td>\n",
       "      <td>NaN</td>\n",
       "      <td>-1</td>\n",
       "      <td>0</td>\n",
       "      <td>unknown</td>\n",
       "      <td>no</td>\n",
       "    </tr>\n",
       "    <tr>\n",
       "      <th>4</th>\n",
       "      <td>59</td>\n",
       "      <td>blue-collar</td>\n",
       "      <td>married</td>\n",
       "      <td>secondary</td>\n",
       "      <td>no</td>\n",
       "      <td>0.0</td>\n",
       "      <td>yes</td>\n",
       "      <td>no</td>\n",
       "      <td>unknown</td>\n",
       "      <td>5</td>\n",
       "      <td>may</td>\n",
       "      <td>226</td>\n",
       "      <td>NaN</td>\n",
       "      <td>-1</td>\n",
       "      <td>0</td>\n",
       "      <td>unknown</td>\n",
       "      <td>no</td>\n",
       "    </tr>\n",
       "    <tr>\n",
       "      <th>...</th>\n",
       "      <td>...</td>\n",
       "      <td>...</td>\n",
       "      <td>...</td>\n",
       "      <td>...</td>\n",
       "      <td>...</td>\n",
       "      <td>...</td>\n",
       "      <td>...</td>\n",
       "      <td>...</td>\n",
       "      <td>...</td>\n",
       "      <td>...</td>\n",
       "      <td>...</td>\n",
       "      <td>...</td>\n",
       "      <td>...</td>\n",
       "      <td>...</td>\n",
       "      <td>...</td>\n",
       "      <td>...</td>\n",
       "      <td>...</td>\n",
       "    </tr>\n",
       "    <tr>\n",
       "      <th>4516</th>\n",
       "      <td>33</td>\n",
       "      <td>services</td>\n",
       "      <td>married</td>\n",
       "      <td>secondary</td>\n",
       "      <td>no</td>\n",
       "      <td>-333.0</td>\n",
       "      <td>yes</td>\n",
       "      <td>no</td>\n",
       "      <td>cellular</td>\n",
       "      <td>30</td>\n",
       "      <td>jul</td>\n",
       "      <td>329</td>\n",
       "      <td>5.0</td>\n",
       "      <td>-1</td>\n",
       "      <td>0</td>\n",
       "      <td>unknown</td>\n",
       "      <td>no</td>\n",
       "    </tr>\n",
       "    <tr>\n",
       "      <th>4517</th>\n",
       "      <td>57</td>\n",
       "      <td>self-employed</td>\n",
       "      <td>married</td>\n",
       "      <td>tertiary</td>\n",
       "      <td>yes</td>\n",
       "      <td>-3313.0</td>\n",
       "      <td>yes</td>\n",
       "      <td>yes</td>\n",
       "      <td>unknown</td>\n",
       "      <td>9</td>\n",
       "      <td>may</td>\n",
       "      <td>153</td>\n",
       "      <td>1.0</td>\n",
       "      <td>-1</td>\n",
       "      <td>0</td>\n",
       "      <td>unknown</td>\n",
       "      <td>no</td>\n",
       "    </tr>\n",
       "    <tr>\n",
       "      <th>4518</th>\n",
       "      <td>57</td>\n",
       "      <td>technician</td>\n",
       "      <td>married</td>\n",
       "      <td>secondary</td>\n",
       "      <td>no</td>\n",
       "      <td>295.0</td>\n",
       "      <td>no</td>\n",
       "      <td>no</td>\n",
       "      <td>cellular</td>\n",
       "      <td>19</td>\n",
       "      <td>aug</td>\n",
       "      <td>151</td>\n",
       "      <td>11.0</td>\n",
       "      <td>-1</td>\n",
       "      <td>0</td>\n",
       "      <td>unknown</td>\n",
       "      <td>no</td>\n",
       "    </tr>\n",
       "    <tr>\n",
       "      <th>4519</th>\n",
       "      <td>28</td>\n",
       "      <td>blue-collar</td>\n",
       "      <td>married</td>\n",
       "      <td>secondary</td>\n",
       "      <td>no</td>\n",
       "      <td>1137.0</td>\n",
       "      <td>no</td>\n",
       "      <td>no</td>\n",
       "      <td>cellular</td>\n",
       "      <td>6</td>\n",
       "      <td>feb</td>\n",
       "      <td>129</td>\n",
       "      <td>4.0</td>\n",
       "      <td>211</td>\n",
       "      <td>3</td>\n",
       "      <td>other</td>\n",
       "      <td>no</td>\n",
       "    </tr>\n",
       "    <tr>\n",
       "      <th>4520</th>\n",
       "      <td>44</td>\n",
       "      <td>entrepreneur</td>\n",
       "      <td>single</td>\n",
       "      <td>tertiary</td>\n",
       "      <td>no</td>\n",
       "      <td>1136.0</td>\n",
       "      <td>yes</td>\n",
       "      <td>yes</td>\n",
       "      <td>cellular</td>\n",
       "      <td>3</td>\n",
       "      <td>apr</td>\n",
       "      <td>345</td>\n",
       "      <td>2.0</td>\n",
       "      <td>249</td>\n",
       "      <td>7</td>\n",
       "      <td>other</td>\n",
       "      <td>no</td>\n",
       "    </tr>\n",
       "  </tbody>\n",
       "</table>\n",
       "<p>4521 rows × 17 columns</p>\n",
       "</div>"
      ],
      "text/plain": [
       "      Age            Job  Marital  Education Default  Balance Housing Loan  \\\n",
       "0      30     unemployed  married    primary      no   1787.0      no   no   \n",
       "1      33       services  married  secondary      no   4789.0     yes  yes   \n",
       "2      35     management   single   tertiary      no   1350.0     yes   no   \n",
       "3      30     management  married   tertiary      no   1476.0     yes  yes   \n",
       "4      59    blue-collar  married  secondary      no      0.0     yes   no   \n",
       "...   ...            ...      ...        ...     ...      ...     ...  ...   \n",
       "4516   33       services  married  secondary      no   -333.0     yes   no   \n",
       "4517   57  self-employed  married   tertiary     yes  -3313.0     yes  yes   \n",
       "4518   57     technician  married  secondary      no    295.0      no   no   \n",
       "4519   28    blue-collar  married  secondary      no   1137.0      no   no   \n",
       "4520   44   entrepreneur   single   tertiary      no   1136.0     yes  yes   \n",
       "\n",
       "       Contact  Day Month  Duration  Campaign  Pdays  Previous Poutcome   Y  \n",
       "0     cellular   19   oct        79       1.0     -1         0  unknown  no  \n",
       "1     cellular   11   may       220       1.0    339         4  failure  no  \n",
       "2     cellular   16   apr       185       1.0    330         1  failure  no  \n",
       "3      unknown    3   jun       199       NaN     -1         0  unknown  no  \n",
       "4      unknown    5   may       226       NaN     -1         0  unknown  no  \n",
       "...        ...  ...   ...       ...       ...    ...       ...      ...  ..  \n",
       "4516  cellular   30   jul       329       5.0     -1         0  unknown  no  \n",
       "4517   unknown    9   may       153       1.0     -1         0  unknown  no  \n",
       "4518  cellular   19   aug       151      11.0     -1         0  unknown  no  \n",
       "4519  cellular    6   feb       129       4.0    211         3    other  no  \n",
       "4520  cellular    3   apr       345       2.0    249         7    other  no  \n",
       "\n",
       "[4521 rows x 17 columns]"
      ]
     },
     "execution_count": 79,
     "metadata": {},
     "output_type": "execute_result"
    }
   ],
   "source": [
    "df.columns = df.columns.str.title()\n",
    "df"
   ]
  },
  {
   "cell_type": "markdown",
   "id": "8045c407-8e9b-4f67-9417-083e1e94ed95",
   "metadata": {},
   "source": [
    "<center>\n",
    "    <h2 style=\"background-color: navy; color: white;\">\n",
    "     Shows updated column names in df. </h2>\n",
    "</center>"
   ]
  },
  {
   "cell_type": "code",
   "execution_count": 95,
   "id": "f96be2e3-2c86-44d6-82a7-d2a4f7da58a0",
   "metadata": {},
   "outputs": [
    {
     "data": {
      "text/plain": [
       "Index(['Age', 'Job', 'Marital', 'Education', 'Default', 'Balance', 'Housing',\n",
       "       'Loan', 'Contact', 'Day', 'Month', 'Duration', 'Campaign', 'Pdays',\n",
       "       'Previous', 'Poutcome', 'Y'],\n",
       "      dtype='object')"
      ]
     },
     "execution_count": 95,
     "metadata": {},
     "output_type": "execute_result"
    }
   ],
   "source": [
    "df.columns"
   ]
  },
  {
   "cell_type": "markdown",
   "id": "0daed782-ed52-462d-853b-23f2de18f665",
   "metadata": {},
   "source": [
    "<center>\n",
    "    <h2 style=\"background-color: navy; color: white;\">\n",
    "      Renames columns in df as specified.</h2>\n",
    "</center>"
   ]
  },
  {
   "cell_type": "code",
   "execution_count": 97,
   "id": "0ad09824-433f-489e-9b12-cdb164fb1266",
   "metadata": {},
   "outputs": [],
   "source": [
    "df.rename(columns = {'Marital' : 'Marital_Status',\n",
    "                     'Pdays' : 'Days_Since_Last_Contact ',\n",
    "                    'Poutcome':'Previous_Outcome',\n",
    "                    'Y': 'Customer_Subscription'}, inplace = True)\n"
   ]
  },
  {
   "cell_type": "markdown",
   "id": "274fc78f-0675-406e-97ec-eb9d27d4d75a",
   "metadata": {},
   "source": [
    "<center>\n",
    "    <h2 style=\"background-color: navy; color: white;\">\n",
    "    Displays the number of rows and columns in df. </h2>\n",
    "</center>"
   ]
  },
  {
   "cell_type": "code",
   "execution_count": 99,
   "id": "5bb1347f-0089-4bb5-94d2-87e3283c62d7",
   "metadata": {},
   "outputs": [
    {
     "data": {
      "text/plain": [
       "(4521, 17)"
      ]
     },
     "execution_count": 99,
     "metadata": {},
     "output_type": "execute_result"
    }
   ],
   "source": [
    "df.shape"
   ]
  },
  {
   "cell_type": "markdown",
   "id": "7743a9bc-c274-45ea-81bb-2a8a6da0f12d",
   "metadata": {},
   "source": [
    "<center>\n",
    "    <h2 style=\"background-color: navy; color: white;\">\n",
    "    Shows the summary of df, including column types and non-null counts. </h2>\n",
    "</center>"
   ]
  },
  {
   "cell_type": "code",
   "execution_count": 101,
   "id": "1fee2e03-23c0-45ea-aabd-ac9195932bd5",
   "metadata": {},
   "outputs": [
    {
     "name": "stdout",
     "output_type": "stream",
     "text": [
      "<class 'pandas.core.frame.DataFrame'>\n",
      "RangeIndex: 4521 entries, 0 to 4520\n",
      "Data columns (total 17 columns):\n",
      " #   Column                    Non-Null Count  Dtype  \n",
      "---  ------                    --------------  -----  \n",
      " 0   Age                       4521 non-null   int64  \n",
      " 1   Job                       4521 non-null   object \n",
      " 2   Marital_Status            4521 non-null   object \n",
      " 3   Education                 4521 non-null   object \n",
      " 4   Default                   4521 non-null   object \n",
      " 5   Balance                   4495 non-null   float64\n",
      " 6   Housing                   4521 non-null   object \n",
      " 7   Loan                      4521 non-null   object \n",
      " 8   Contact                   4521 non-null   object \n",
      " 9   Day                       4521 non-null   int64  \n",
      " 10  Month                     4521 non-null   object \n",
      " 11  Duration                  4521 non-null   int64  \n",
      " 12  Campaign                  4442 non-null   float64\n",
      " 13  Days_Since_Last_Contact   4521 non-null   int64  \n",
      " 14  Previous                  4521 non-null   int64  \n",
      " 15  Previous_Outcome          4521 non-null   object \n",
      " 16  Customer_Subscription     4521 non-null   object \n",
      "dtypes: float64(2), int64(5), object(10)\n",
      "memory usage: 600.6+ KB\n"
     ]
    }
   ],
   "source": [
    "df.info()"
   ]
  },
  {
   "cell_type": "markdown",
   "id": "4f8895c5-9ad7-4ffb-ad2f-574c6d1cca0c",
   "metadata": {},
   "source": [
    "\n",
    "<center>\n",
    "    <h2 style=\"background-color: navy; color: white;\">\n",
    "    Shows summary statistics for numeric columns in df.</h2>\n",
    "</center>\n"
   ]
  },
  {
   "cell_type": "code",
   "execution_count": 103,
   "id": "08f6e544-3240-47c5-ac01-8a92b5018d59",
   "metadata": {},
   "outputs": [
    {
     "data": {
      "text/html": [
       "<div>\n",
       "<style scoped>\n",
       "    .dataframe tbody tr th:only-of-type {\n",
       "        vertical-align: middle;\n",
       "    }\n",
       "\n",
       "    .dataframe tbody tr th {\n",
       "        vertical-align: top;\n",
       "    }\n",
       "\n",
       "    .dataframe thead th {\n",
       "        text-align: right;\n",
       "    }\n",
       "</style>\n",
       "<table border=\"1\" class=\"dataframe\">\n",
       "  <thead>\n",
       "    <tr style=\"text-align: right;\">\n",
       "      <th></th>\n",
       "      <th>Age</th>\n",
       "      <th>Balance</th>\n",
       "      <th>Day</th>\n",
       "      <th>Duration</th>\n",
       "      <th>Campaign</th>\n",
       "      <th>Days_Since_Last_Contact</th>\n",
       "      <th>Previous</th>\n",
       "    </tr>\n",
       "  </thead>\n",
       "  <tbody>\n",
       "    <tr>\n",
       "      <th>count</th>\n",
       "      <td>4521.000000</td>\n",
       "      <td>4495.000000</td>\n",
       "      <td>4521.000000</td>\n",
       "      <td>4521.000000</td>\n",
       "      <td>4442.000000</td>\n",
       "      <td>4521.000000</td>\n",
       "      <td>4521.000000</td>\n",
       "    </tr>\n",
       "    <tr>\n",
       "      <th>mean</th>\n",
       "      <td>41.170095</td>\n",
       "      <td>1423.153504</td>\n",
       "      <td>15.915284</td>\n",
       "      <td>263.961292</td>\n",
       "      <td>2.804818</td>\n",
       "      <td>39.766645</td>\n",
       "      <td>0.542579</td>\n",
       "    </tr>\n",
       "    <tr>\n",
       "      <th>std</th>\n",
       "      <td>10.576211</td>\n",
       "      <td>3015.932038</td>\n",
       "      <td>8.247667</td>\n",
       "      <td>259.856633</td>\n",
       "      <td>3.123293</td>\n",
       "      <td>100.121124</td>\n",
       "      <td>1.693562</td>\n",
       "    </tr>\n",
       "    <tr>\n",
       "      <th>min</th>\n",
       "      <td>19.000000</td>\n",
       "      <td>-3313.000000</td>\n",
       "      <td>1.000000</td>\n",
       "      <td>4.000000</td>\n",
       "      <td>1.000000</td>\n",
       "      <td>-1.000000</td>\n",
       "      <td>0.000000</td>\n",
       "    </tr>\n",
       "    <tr>\n",
       "      <th>25%</th>\n",
       "      <td>33.000000</td>\n",
       "      <td>69.000000</td>\n",
       "      <td>9.000000</td>\n",
       "      <td>104.000000</td>\n",
       "      <td>1.000000</td>\n",
       "      <td>-1.000000</td>\n",
       "      <td>0.000000</td>\n",
       "    </tr>\n",
       "    <tr>\n",
       "      <th>50%</th>\n",
       "      <td>39.000000</td>\n",
       "      <td>443.000000</td>\n",
       "      <td>16.000000</td>\n",
       "      <td>185.000000</td>\n",
       "      <td>2.000000</td>\n",
       "      <td>-1.000000</td>\n",
       "      <td>0.000000</td>\n",
       "    </tr>\n",
       "    <tr>\n",
       "      <th>75%</th>\n",
       "      <td>49.000000</td>\n",
       "      <td>1474.000000</td>\n",
       "      <td>21.000000</td>\n",
       "      <td>329.000000</td>\n",
       "      <td>3.000000</td>\n",
       "      <td>-1.000000</td>\n",
       "      <td>0.000000</td>\n",
       "    </tr>\n",
       "    <tr>\n",
       "      <th>max</th>\n",
       "      <td>87.000000</td>\n",
       "      <td>71188.000000</td>\n",
       "      <td>31.000000</td>\n",
       "      <td>3025.000000</td>\n",
       "      <td>50.000000</td>\n",
       "      <td>871.000000</td>\n",
       "      <td>25.000000</td>\n",
       "    </tr>\n",
       "  </tbody>\n",
       "</table>\n",
       "</div>"
      ],
      "text/plain": [
       "               Age       Balance          Day     Duration     Campaign  \\\n",
       "count  4521.000000   4495.000000  4521.000000  4521.000000  4442.000000   \n",
       "mean     41.170095   1423.153504    15.915284   263.961292     2.804818   \n",
       "std      10.576211   3015.932038     8.247667   259.856633     3.123293   \n",
       "min      19.000000  -3313.000000     1.000000     4.000000     1.000000   \n",
       "25%      33.000000     69.000000     9.000000   104.000000     1.000000   \n",
       "50%      39.000000    443.000000    16.000000   185.000000     2.000000   \n",
       "75%      49.000000   1474.000000    21.000000   329.000000     3.000000   \n",
       "max      87.000000  71188.000000    31.000000  3025.000000    50.000000   \n",
       "\n",
       "       Days_Since_Last_Contact      Previous  \n",
       "count               4521.000000  4521.000000  \n",
       "mean                  39.766645     0.542579  \n",
       "std                  100.121124     1.693562  \n",
       "min                   -1.000000     0.000000  \n",
       "25%                   -1.000000     0.000000  \n",
       "50%                   -1.000000     0.000000  \n",
       "75%                   -1.000000     0.000000  \n",
       "max                  871.000000    25.000000  "
      ]
     },
     "execution_count": 103,
     "metadata": {},
     "output_type": "execute_result"
    }
   ],
   "source": [
    "df.describe()"
   ]
  },
  {
   "cell_type": "markdown",
   "id": "fd002d30-a02d-4969-af29-7275b0602b8d",
   "metadata": {},
   "source": [
    "<center>\n",
    "    <h2 style=\"background-color: navy; color: white;\">\n",
    "   Shows summary statistics for all columns in df.</h2>\n",
    "</center>"
   ]
  },
  {
   "cell_type": "code",
   "execution_count": 105,
   "id": "e2fa4e96-ab1a-495e-8799-327fa6c41d13",
   "metadata": {},
   "outputs": [
    {
     "data": {
      "text/html": [
       "<div>\n",
       "<style scoped>\n",
       "    .dataframe tbody tr th:only-of-type {\n",
       "        vertical-align: middle;\n",
       "    }\n",
       "\n",
       "    .dataframe tbody tr th {\n",
       "        vertical-align: top;\n",
       "    }\n",
       "\n",
       "    .dataframe thead th {\n",
       "        text-align: right;\n",
       "    }\n",
       "</style>\n",
       "<table border=\"1\" class=\"dataframe\">\n",
       "  <thead>\n",
       "    <tr style=\"text-align: right;\">\n",
       "      <th></th>\n",
       "      <th>Age</th>\n",
       "      <th>Job</th>\n",
       "      <th>Marital_Status</th>\n",
       "      <th>Education</th>\n",
       "      <th>Default</th>\n",
       "      <th>Balance</th>\n",
       "      <th>Housing</th>\n",
       "      <th>Loan</th>\n",
       "      <th>Contact</th>\n",
       "      <th>Day</th>\n",
       "      <th>Month</th>\n",
       "      <th>Duration</th>\n",
       "      <th>Campaign</th>\n",
       "      <th>Days_Since_Last_Contact</th>\n",
       "      <th>Previous</th>\n",
       "      <th>Previous_Outcome</th>\n",
       "      <th>Customer_Subscription</th>\n",
       "    </tr>\n",
       "  </thead>\n",
       "  <tbody>\n",
       "    <tr>\n",
       "      <th>count</th>\n",
       "      <td>4521.000000</td>\n",
       "      <td>4521</td>\n",
       "      <td>4521</td>\n",
       "      <td>4521</td>\n",
       "      <td>4521</td>\n",
       "      <td>4495.000000</td>\n",
       "      <td>4521</td>\n",
       "      <td>4521</td>\n",
       "      <td>4521</td>\n",
       "      <td>4521.000000</td>\n",
       "      <td>4521</td>\n",
       "      <td>4521.000000</td>\n",
       "      <td>4442.000000</td>\n",
       "      <td>4521.000000</td>\n",
       "      <td>4521.000000</td>\n",
       "      <td>4521</td>\n",
       "      <td>4521</td>\n",
       "    </tr>\n",
       "    <tr>\n",
       "      <th>unique</th>\n",
       "      <td>NaN</td>\n",
       "      <td>12</td>\n",
       "      <td>3</td>\n",
       "      <td>4</td>\n",
       "      <td>2</td>\n",
       "      <td>NaN</td>\n",
       "      <td>2</td>\n",
       "      <td>2</td>\n",
       "      <td>3</td>\n",
       "      <td>NaN</td>\n",
       "      <td>12</td>\n",
       "      <td>NaN</td>\n",
       "      <td>NaN</td>\n",
       "      <td>NaN</td>\n",
       "      <td>NaN</td>\n",
       "      <td>4</td>\n",
       "      <td>2</td>\n",
       "    </tr>\n",
       "    <tr>\n",
       "      <th>top</th>\n",
       "      <td>NaN</td>\n",
       "      <td>management</td>\n",
       "      <td>married</td>\n",
       "      <td>secondary</td>\n",
       "      <td>no</td>\n",
       "      <td>NaN</td>\n",
       "      <td>yes</td>\n",
       "      <td>no</td>\n",
       "      <td>cellular</td>\n",
       "      <td>NaN</td>\n",
       "      <td>may</td>\n",
       "      <td>NaN</td>\n",
       "      <td>NaN</td>\n",
       "      <td>NaN</td>\n",
       "      <td>NaN</td>\n",
       "      <td>unknown</td>\n",
       "      <td>no</td>\n",
       "    </tr>\n",
       "    <tr>\n",
       "      <th>freq</th>\n",
       "      <td>NaN</td>\n",
       "      <td>969</td>\n",
       "      <td>2797</td>\n",
       "      <td>2306</td>\n",
       "      <td>4445</td>\n",
       "      <td>NaN</td>\n",
       "      <td>2559</td>\n",
       "      <td>3830</td>\n",
       "      <td>2896</td>\n",
       "      <td>NaN</td>\n",
       "      <td>1398</td>\n",
       "      <td>NaN</td>\n",
       "      <td>NaN</td>\n",
       "      <td>NaN</td>\n",
       "      <td>NaN</td>\n",
       "      <td>3705</td>\n",
       "      <td>4000</td>\n",
       "    </tr>\n",
       "    <tr>\n",
       "      <th>mean</th>\n",
       "      <td>41.170095</td>\n",
       "      <td>NaN</td>\n",
       "      <td>NaN</td>\n",
       "      <td>NaN</td>\n",
       "      <td>NaN</td>\n",
       "      <td>1423.153504</td>\n",
       "      <td>NaN</td>\n",
       "      <td>NaN</td>\n",
       "      <td>NaN</td>\n",
       "      <td>15.915284</td>\n",
       "      <td>NaN</td>\n",
       "      <td>263.961292</td>\n",
       "      <td>2.804818</td>\n",
       "      <td>39.766645</td>\n",
       "      <td>0.542579</td>\n",
       "      <td>NaN</td>\n",
       "      <td>NaN</td>\n",
       "    </tr>\n",
       "    <tr>\n",
       "      <th>std</th>\n",
       "      <td>10.576211</td>\n",
       "      <td>NaN</td>\n",
       "      <td>NaN</td>\n",
       "      <td>NaN</td>\n",
       "      <td>NaN</td>\n",
       "      <td>3015.932038</td>\n",
       "      <td>NaN</td>\n",
       "      <td>NaN</td>\n",
       "      <td>NaN</td>\n",
       "      <td>8.247667</td>\n",
       "      <td>NaN</td>\n",
       "      <td>259.856633</td>\n",
       "      <td>3.123293</td>\n",
       "      <td>100.121124</td>\n",
       "      <td>1.693562</td>\n",
       "      <td>NaN</td>\n",
       "      <td>NaN</td>\n",
       "    </tr>\n",
       "    <tr>\n",
       "      <th>min</th>\n",
       "      <td>19.000000</td>\n",
       "      <td>NaN</td>\n",
       "      <td>NaN</td>\n",
       "      <td>NaN</td>\n",
       "      <td>NaN</td>\n",
       "      <td>-3313.000000</td>\n",
       "      <td>NaN</td>\n",
       "      <td>NaN</td>\n",
       "      <td>NaN</td>\n",
       "      <td>1.000000</td>\n",
       "      <td>NaN</td>\n",
       "      <td>4.000000</td>\n",
       "      <td>1.000000</td>\n",
       "      <td>-1.000000</td>\n",
       "      <td>0.000000</td>\n",
       "      <td>NaN</td>\n",
       "      <td>NaN</td>\n",
       "    </tr>\n",
       "    <tr>\n",
       "      <th>25%</th>\n",
       "      <td>33.000000</td>\n",
       "      <td>NaN</td>\n",
       "      <td>NaN</td>\n",
       "      <td>NaN</td>\n",
       "      <td>NaN</td>\n",
       "      <td>69.000000</td>\n",
       "      <td>NaN</td>\n",
       "      <td>NaN</td>\n",
       "      <td>NaN</td>\n",
       "      <td>9.000000</td>\n",
       "      <td>NaN</td>\n",
       "      <td>104.000000</td>\n",
       "      <td>1.000000</td>\n",
       "      <td>-1.000000</td>\n",
       "      <td>0.000000</td>\n",
       "      <td>NaN</td>\n",
       "      <td>NaN</td>\n",
       "    </tr>\n",
       "    <tr>\n",
       "      <th>50%</th>\n",
       "      <td>39.000000</td>\n",
       "      <td>NaN</td>\n",
       "      <td>NaN</td>\n",
       "      <td>NaN</td>\n",
       "      <td>NaN</td>\n",
       "      <td>443.000000</td>\n",
       "      <td>NaN</td>\n",
       "      <td>NaN</td>\n",
       "      <td>NaN</td>\n",
       "      <td>16.000000</td>\n",
       "      <td>NaN</td>\n",
       "      <td>185.000000</td>\n",
       "      <td>2.000000</td>\n",
       "      <td>-1.000000</td>\n",
       "      <td>0.000000</td>\n",
       "      <td>NaN</td>\n",
       "      <td>NaN</td>\n",
       "    </tr>\n",
       "    <tr>\n",
       "      <th>75%</th>\n",
       "      <td>49.000000</td>\n",
       "      <td>NaN</td>\n",
       "      <td>NaN</td>\n",
       "      <td>NaN</td>\n",
       "      <td>NaN</td>\n",
       "      <td>1474.000000</td>\n",
       "      <td>NaN</td>\n",
       "      <td>NaN</td>\n",
       "      <td>NaN</td>\n",
       "      <td>21.000000</td>\n",
       "      <td>NaN</td>\n",
       "      <td>329.000000</td>\n",
       "      <td>3.000000</td>\n",
       "      <td>-1.000000</td>\n",
       "      <td>0.000000</td>\n",
       "      <td>NaN</td>\n",
       "      <td>NaN</td>\n",
       "    </tr>\n",
       "    <tr>\n",
       "      <th>max</th>\n",
       "      <td>87.000000</td>\n",
       "      <td>NaN</td>\n",
       "      <td>NaN</td>\n",
       "      <td>NaN</td>\n",
       "      <td>NaN</td>\n",
       "      <td>71188.000000</td>\n",
       "      <td>NaN</td>\n",
       "      <td>NaN</td>\n",
       "      <td>NaN</td>\n",
       "      <td>31.000000</td>\n",
       "      <td>NaN</td>\n",
       "      <td>3025.000000</td>\n",
       "      <td>50.000000</td>\n",
       "      <td>871.000000</td>\n",
       "      <td>25.000000</td>\n",
       "      <td>NaN</td>\n",
       "      <td>NaN</td>\n",
       "    </tr>\n",
       "  </tbody>\n",
       "</table>\n",
       "</div>"
      ],
      "text/plain": [
       "                Age         Job Marital_Status  Education Default  \\\n",
       "count   4521.000000        4521           4521       4521    4521   \n",
       "unique          NaN          12              3          4       2   \n",
       "top             NaN  management        married  secondary      no   \n",
       "freq            NaN         969           2797       2306    4445   \n",
       "mean      41.170095         NaN            NaN        NaN     NaN   \n",
       "std       10.576211         NaN            NaN        NaN     NaN   \n",
       "min       19.000000         NaN            NaN        NaN     NaN   \n",
       "25%       33.000000         NaN            NaN        NaN     NaN   \n",
       "50%       39.000000         NaN            NaN        NaN     NaN   \n",
       "75%       49.000000         NaN            NaN        NaN     NaN   \n",
       "max       87.000000         NaN            NaN        NaN     NaN   \n",
       "\n",
       "             Balance Housing  Loan   Contact          Day Month     Duration  \\\n",
       "count    4495.000000    4521  4521      4521  4521.000000  4521  4521.000000   \n",
       "unique           NaN       2     2         3          NaN    12          NaN   \n",
       "top              NaN     yes    no  cellular          NaN   may          NaN   \n",
       "freq             NaN    2559  3830      2896          NaN  1398          NaN   \n",
       "mean     1423.153504     NaN   NaN       NaN    15.915284   NaN   263.961292   \n",
       "std      3015.932038     NaN   NaN       NaN     8.247667   NaN   259.856633   \n",
       "min     -3313.000000     NaN   NaN       NaN     1.000000   NaN     4.000000   \n",
       "25%        69.000000     NaN   NaN       NaN     9.000000   NaN   104.000000   \n",
       "50%       443.000000     NaN   NaN       NaN    16.000000   NaN   185.000000   \n",
       "75%      1474.000000     NaN   NaN       NaN    21.000000   NaN   329.000000   \n",
       "max     71188.000000     NaN   NaN       NaN    31.000000   NaN  3025.000000   \n",
       "\n",
       "           Campaign  Days_Since_Last_Contact      Previous Previous_Outcome  \\\n",
       "count   4442.000000               4521.000000  4521.000000             4521   \n",
       "unique          NaN                       NaN          NaN                4   \n",
       "top             NaN                       NaN          NaN          unknown   \n",
       "freq            NaN                       NaN          NaN             3705   \n",
       "mean       2.804818                 39.766645     0.542579              NaN   \n",
       "std        3.123293                100.121124     1.693562              NaN   \n",
       "min        1.000000                 -1.000000     0.000000              NaN   \n",
       "25%        1.000000                 -1.000000     0.000000              NaN   \n",
       "50%        2.000000                 -1.000000     0.000000              NaN   \n",
       "75%        3.000000                 -1.000000     0.000000              NaN   \n",
       "max       50.000000                871.000000    25.000000              NaN   \n",
       "\n",
       "       Customer_Subscription  \n",
       "count                   4521  \n",
       "unique                     2  \n",
       "top                       no  \n",
       "freq                    4000  \n",
       "mean                     NaN  \n",
       "std                      NaN  \n",
       "min                      NaN  \n",
       "25%                      NaN  \n",
       "50%                      NaN  \n",
       "75%                      NaN  \n",
       "max                      NaN  "
      ]
     },
     "execution_count": 105,
     "metadata": {},
     "output_type": "execute_result"
    }
   ],
   "source": [
    "df.describe(include = 'all')"
   ]
  },
  {
   "cell_type": "markdown",
   "id": "fa981488-92d3-4217-b1b6-c8cae036317a",
   "metadata": {},
   "source": [
    "\n",
    "<center>\n",
    "    <h1 style=\"background-color: navy; color: white;\">\n",
    "   DATA CLEANING </h1>\n",
    "</center>"
   ]
  },
  {
   "cell_type": "markdown",
   "id": "28146cc7-d28c-43e9-a5cd-6d7ce67f41f7",
   "metadata": {},
   "source": [
    "<center>\n",
    "    <h2 style=\"background-color: navy; color: white;\">\n",
    "       Displays the first 5 rows of the dataset df. </h2>\n",
    "</center>"
   ]
  },
  {
   "cell_type": "code",
   "execution_count": 110,
   "id": "82fbffec-7ecd-4951-9018-5389e229dbb4",
   "metadata": {},
   "outputs": [
    {
     "data": {
      "text/html": [
       "<div>\n",
       "<style scoped>\n",
       "    .dataframe tbody tr th:only-of-type {\n",
       "        vertical-align: middle;\n",
       "    }\n",
       "\n",
       "    .dataframe tbody tr th {\n",
       "        vertical-align: top;\n",
       "    }\n",
       "\n",
       "    .dataframe thead th {\n",
       "        text-align: right;\n",
       "    }\n",
       "</style>\n",
       "<table border=\"1\" class=\"dataframe\">\n",
       "  <thead>\n",
       "    <tr style=\"text-align: right;\">\n",
       "      <th></th>\n",
       "      <th>Age</th>\n",
       "      <th>Job</th>\n",
       "      <th>Marital_Status</th>\n",
       "      <th>Education</th>\n",
       "      <th>Default</th>\n",
       "      <th>Balance</th>\n",
       "      <th>Housing</th>\n",
       "      <th>Loan</th>\n",
       "      <th>Contact</th>\n",
       "      <th>Day</th>\n",
       "      <th>Month</th>\n",
       "      <th>Duration</th>\n",
       "      <th>Campaign</th>\n",
       "      <th>Days_Since_Last_Contact</th>\n",
       "      <th>Previous</th>\n",
       "      <th>Previous_Outcome</th>\n",
       "      <th>Customer_Subscription</th>\n",
       "    </tr>\n",
       "  </thead>\n",
       "  <tbody>\n",
       "    <tr>\n",
       "      <th>0</th>\n",
       "      <td>30</td>\n",
       "      <td>unemployed</td>\n",
       "      <td>married</td>\n",
       "      <td>primary</td>\n",
       "      <td>no</td>\n",
       "      <td>1787.0</td>\n",
       "      <td>no</td>\n",
       "      <td>no</td>\n",
       "      <td>cellular</td>\n",
       "      <td>19</td>\n",
       "      <td>oct</td>\n",
       "      <td>79</td>\n",
       "      <td>1.0</td>\n",
       "      <td>-1</td>\n",
       "      <td>0</td>\n",
       "      <td>unknown</td>\n",
       "      <td>no</td>\n",
       "    </tr>\n",
       "    <tr>\n",
       "      <th>1</th>\n",
       "      <td>33</td>\n",
       "      <td>services</td>\n",
       "      <td>married</td>\n",
       "      <td>secondary</td>\n",
       "      <td>no</td>\n",
       "      <td>4789.0</td>\n",
       "      <td>yes</td>\n",
       "      <td>yes</td>\n",
       "      <td>cellular</td>\n",
       "      <td>11</td>\n",
       "      <td>may</td>\n",
       "      <td>220</td>\n",
       "      <td>1.0</td>\n",
       "      <td>339</td>\n",
       "      <td>4</td>\n",
       "      <td>failure</td>\n",
       "      <td>no</td>\n",
       "    </tr>\n",
       "    <tr>\n",
       "      <th>2</th>\n",
       "      <td>35</td>\n",
       "      <td>management</td>\n",
       "      <td>single</td>\n",
       "      <td>tertiary</td>\n",
       "      <td>no</td>\n",
       "      <td>1350.0</td>\n",
       "      <td>yes</td>\n",
       "      <td>no</td>\n",
       "      <td>cellular</td>\n",
       "      <td>16</td>\n",
       "      <td>apr</td>\n",
       "      <td>185</td>\n",
       "      <td>1.0</td>\n",
       "      <td>330</td>\n",
       "      <td>1</td>\n",
       "      <td>failure</td>\n",
       "      <td>no</td>\n",
       "    </tr>\n",
       "    <tr>\n",
       "      <th>3</th>\n",
       "      <td>30</td>\n",
       "      <td>management</td>\n",
       "      <td>married</td>\n",
       "      <td>tertiary</td>\n",
       "      <td>no</td>\n",
       "      <td>1476.0</td>\n",
       "      <td>yes</td>\n",
       "      <td>yes</td>\n",
       "      <td>unknown</td>\n",
       "      <td>3</td>\n",
       "      <td>jun</td>\n",
       "      <td>199</td>\n",
       "      <td>NaN</td>\n",
       "      <td>-1</td>\n",
       "      <td>0</td>\n",
       "      <td>unknown</td>\n",
       "      <td>no</td>\n",
       "    </tr>\n",
       "    <tr>\n",
       "      <th>4</th>\n",
       "      <td>59</td>\n",
       "      <td>blue-collar</td>\n",
       "      <td>married</td>\n",
       "      <td>secondary</td>\n",
       "      <td>no</td>\n",
       "      <td>0.0</td>\n",
       "      <td>yes</td>\n",
       "      <td>no</td>\n",
       "      <td>unknown</td>\n",
       "      <td>5</td>\n",
       "      <td>may</td>\n",
       "      <td>226</td>\n",
       "      <td>NaN</td>\n",
       "      <td>-1</td>\n",
       "      <td>0</td>\n",
       "      <td>unknown</td>\n",
       "      <td>no</td>\n",
       "    </tr>\n",
       "  </tbody>\n",
       "</table>\n",
       "</div>"
      ],
      "text/plain": [
       "   Age          Job Marital_Status  Education Default  Balance Housing Loan  \\\n",
       "0   30   unemployed        married    primary      no   1787.0      no   no   \n",
       "1   33     services        married  secondary      no   4789.0     yes  yes   \n",
       "2   35   management         single   tertiary      no   1350.0     yes   no   \n",
       "3   30   management        married   tertiary      no   1476.0     yes  yes   \n",
       "4   59  blue-collar        married  secondary      no      0.0     yes   no   \n",
       "\n",
       "    Contact  Day Month  Duration  Campaign  Days_Since_Last_Contact   \\\n",
       "0  cellular   19   oct        79       1.0                        -1   \n",
       "1  cellular   11   may       220       1.0                       339   \n",
       "2  cellular   16   apr       185       1.0                       330   \n",
       "3   unknown    3   jun       199       NaN                        -1   \n",
       "4   unknown    5   may       226       NaN                        -1   \n",
       "\n",
       "   Previous Previous_Outcome Customer_Subscription  \n",
       "0         0          unknown                    no  \n",
       "1         4          failure                    no  \n",
       "2         1          failure                    no  \n",
       "3         0          unknown                    no  \n",
       "4         0          unknown                    no  "
      ]
     },
     "execution_count": 110,
     "metadata": {},
     "output_type": "execute_result"
    }
   ],
   "source": [
    "df.head()"
   ]
  },
  {
   "cell_type": "markdown",
   "id": "b0f7ad39-51bf-4c63-8981-c50cf75f1e74",
   "metadata": {},
   "source": [
    "<center>\n",
    "    <h2 style=\"background-color: navy; color: white;\">\n",
    "    Displays the data types of each column in df. </h2>\n",
    "</center>"
   ]
  },
  {
   "cell_type": "code",
   "execution_count": 108,
   "id": "15bb4fea-9ebe-4192-b6a4-8db81d2164c2",
   "metadata": {},
   "outputs": [
    {
     "data": {
      "text/plain": [
       "Age                           int64\n",
       "Job                          object\n",
       "Marital_Status               object\n",
       "Education                    object\n",
       "Default                      object\n",
       "Balance                     float64\n",
       "Housing                      object\n",
       "Loan                         object\n",
       "Contact                      object\n",
       "Day                           int64\n",
       "Month                        object\n",
       "Duration                      int64\n",
       "Campaign                    float64\n",
       "Days_Since_Last_Contact       int64\n",
       "Previous                      int64\n",
       "Previous_Outcome             object\n",
       "Customer_Subscription        object\n",
       "dtype: object"
      ]
     },
     "execution_count": 108,
     "metadata": {},
     "output_type": "execute_result"
    }
   ],
   "source": [
    "df.dtypes"
   ]
  },
  {
   "cell_type": "markdown",
   "id": "e225d88d-e1d5-4aca-8ada-4e01c6a1939a",
   "metadata": {},
   "source": [
    "<center>\n",
    "    <h2 style=\"background-color: navy; color: white;\">\n",
    "    Converts specified columns in df to the category data type. </h2>\n",
    "</center>"
   ]
  },
  {
   "cell_type": "code",
   "execution_count": 112,
   "id": "285713ac-fa12-405c-822b-63e5f7dd6256",
   "metadata": {},
   "outputs": [],
   "source": [
    "df['Job'] = df['Job'].astype('category')\n",
    "df['Marital_Status'] = df['Marital_Status'].astype('category')\n",
    "df['Education'] = df['Education'].astype('category')\n",
    "df['Default'] = df['Default'].astype('category')\n",
    "df['Housing'] = df['Housing'].astype('category')\n",
    "df['Loan'] = df['Loan'].astype('category')\n",
    "df['Contact'] = df['Contact'].astype('category')\n",
    "df['Month'] = df['Month'].astype('category')\n",
    "df['Previous_Outcome'] = df['Previous_Outcome'].astype('category')\n",
    "df['Customer_Subscription'] = df['Customer_Subscription'].astype('category')"
   ]
  },
  {
   "cell_type": "markdown",
   "id": "7c9adae1-291f-4c3a-837e-8ead8e807e2d",
   "metadata": {},
   "source": [
    "<center>\n",
    "    <h2 style=\"background-color: navy; color: white;\">\n",
    "   Shows the updated data types of columns in df.</h2>\n",
    "</center>"
   ]
  },
  {
   "cell_type": "code",
   "execution_count": 114,
   "id": "aa488b2a-fc3d-4924-b1c7-be8ac9501a61",
   "metadata": {},
   "outputs": [
    {
     "data": {
      "text/plain": [
       "Age                            int64\n",
       "Job                         category\n",
       "Marital_Status              category\n",
       "Education                   category\n",
       "Default                     category\n",
       "Balance                      float64\n",
       "Housing                     category\n",
       "Loan                        category\n",
       "Contact                     category\n",
       "Day                            int64\n",
       "Month                       category\n",
       "Duration                       int64\n",
       "Campaign                     float64\n",
       "Days_Since_Last_Contact        int64\n",
       "Previous                       int64\n",
       "Previous_Outcome            category\n",
       "Customer_Subscription       category\n",
       "dtype: object"
      ]
     },
     "execution_count": 114,
     "metadata": {},
     "output_type": "execute_result"
    }
   ],
   "source": [
    "df.dtypes"
   ]
  },
  {
   "cell_type": "markdown",
   "id": "e4f7c1ed-7eba-4016-b334-26bf659f4216",
   "metadata": {},
   "source": [
    "<center>\n",
    "    <h2 style=\"background-color: navy; color: white;\">\n",
    "   Displays the number of unique values in each column of df.</h2>\n",
    "</center>"
   ]
  },
  {
   "cell_type": "code",
   "execution_count": 116,
   "id": "78b485ab-e0c3-44df-9828-14e3d24d2008",
   "metadata": {},
   "outputs": [
    {
     "data": {
      "text/plain": [
       "Age                           67\n",
       "Job                           12\n",
       "Marital_Status                 3\n",
       "Education                      4\n",
       "Default                        2\n",
       "Balance                     2345\n",
       "Housing                        2\n",
       "Loan                           2\n",
       "Contact                        3\n",
       "Day                           31\n",
       "Month                         12\n",
       "Duration                     875\n",
       "Campaign                      32\n",
       "Days_Since_Last_Contact      292\n",
       "Previous                      24\n",
       "Previous_Outcome               4\n",
       "Customer_Subscription          2\n",
       "dtype: int64"
      ]
     },
     "execution_count": 116,
     "metadata": {},
     "output_type": "execute_result"
    }
   ],
   "source": [
    "df.nunique()\n"
   ]
  },
  {
   "cell_type": "markdown",
   "id": "4706cae0-7fca-434e-b123-4a8ea9120760",
   "metadata": {},
   "source": [
    "<center>\n",
    "    <h2 style=\"background-color: navy; color: white;\">\n",
    "   Identifies and prints duplicate rows in df.</h2>\n",
    "</center>"
   ]
  },
  {
   "cell_type": "code",
   "execution_count": 118,
   "id": "8f26e39f-c9cc-4b36-976f-4229abe56e77",
   "metadata": {},
   "outputs": [
    {
     "name": "stdout",
     "output_type": "stream",
     "text": [
      "0       False\n",
      "1       False\n",
      "2       False\n",
      "3       False\n",
      "4       False\n",
      "        ...  \n",
      "4516    False\n",
      "4517    False\n",
      "4518    False\n",
      "4519    False\n",
      "4520    False\n",
      "Length: 4521, dtype: bool\n"
     ]
    }
   ],
   "source": [
    "df_duplicated = df.duplicated()\n",
    "print(df_duplicated)\n"
   ]
  },
  {
   "cell_type": "markdown",
   "id": "5ef8c145-ed8c-45e2-98b7-a9808ea0814a",
   "metadata": {},
   "source": [
    "<center>\n",
    "    <h2 style=\"background-color: navy; color: white;\">\n",
    "  Returns the count of duplicate rows in df.</h2>\n",
    "</center>"
   ]
  },
  {
   "cell_type": "code",
   "execution_count": 120,
   "id": "1a67f7f4-dc14-44b1-8820-13642a77f69f",
   "metadata": {},
   "outputs": [
    {
     "data": {
      "text/plain": [
       "0"
      ]
     },
     "execution_count": 120,
     "metadata": {},
     "output_type": "execute_result"
    }
   ],
   "source": [
    "df.duplicated().sum()"
   ]
  },
  {
   "cell_type": "markdown",
   "id": "000624ef-555e-45fe-b730-0213048fbd1f",
   "metadata": {},
   "source": [
    "<center>\n",
    "    <h2 style=\"background-color: navy; color: white;\">\n",
    "  Shows the percentage distribution of unique values in Job.</h2>\n",
    "</center>"
   ]
  },
  {
   "cell_type": "code",
   "execution_count": 122,
   "id": "15f0a4ea-7962-4d0e-a5bf-b9d4681c5d15",
   "metadata": {},
   "outputs": [
    {
     "data": {
      "text/plain": [
       "Job\n",
       "unknown          0.008405\n",
       "student          0.018580\n",
       "housemaid        0.024773\n",
       "unemployed       0.028312\n",
       "entrepreneur     0.037160\n",
       "self-employed    0.040478\n",
       "retired          0.050874\n",
       "services         0.092236\n",
       "admin.           0.105729\n",
       "technician       0.169874\n",
       "blue-collar      0.209246\n",
       "management       0.214333\n",
       "Name: proportion, dtype: float64"
      ]
     },
     "execution_count": 122,
     "metadata": {},
     "output_type": "execute_result"
    }
   ],
   "source": [
    "df['Job'].value_counts(normalize = True, ascending = True)"
   ]
  },
  {
   "cell_type": "markdown",
   "id": "4105b175-b859-4af2-b092-489cca24e020",
   "metadata": {},
   "source": [
    "<center>\n",
    "    <h2 style=\"background-color: navy; color: white;\">\n",
    "  Shows the count of missing values in each column of df.</h2>\n",
    "</center>"
   ]
  },
  {
   "cell_type": "code",
   "execution_count": 124,
   "id": "accd7eb5-4b8e-4848-afdd-510bd8a10e10",
   "metadata": {},
   "outputs": [
    {
     "data": {
      "text/plain": [
       "Age                          0\n",
       "Job                          0\n",
       "Marital_Status               0\n",
       "Education                    0\n",
       "Default                      0\n",
       "Balance                     26\n",
       "Housing                      0\n",
       "Loan                         0\n",
       "Contact                      0\n",
       "Day                          0\n",
       "Month                        0\n",
       "Duration                     0\n",
       "Campaign                    79\n",
       "Days_Since_Last_Contact      0\n",
       "Previous                     0\n",
       "Previous_Outcome             0\n",
       "Customer_Subscription        0\n",
       "dtype: int64"
      ]
     },
     "execution_count": 124,
     "metadata": {},
     "output_type": "execute_result"
    }
   ],
   "source": [
    "df.isnull().sum()"
   ]
  },
  {
   "cell_type": "markdown",
   "id": "dd7d3e58-49f2-4f1d-9688-f0b3b2bd0bd3",
   "metadata": {},
   "source": [
    "<center>\n",
    "    <h2 style=\"background-color: navy; color: white;\">\n",
    "  Calculates the percentage of missing values in each column of df.</h2>\n",
    "</center>"
   ]
  },
  {
   "cell_type": "code",
   "execution_count": 126,
   "id": "8de96cb0-9ce0-40bc-83fd-9a4c66513eda",
   "metadata": {},
   "outputs": [
    {
     "data": {
      "text/plain": [
       "Age                         0.000000\n",
       "Job                         0.000000\n",
       "Marital_Status              0.000000\n",
       "Education                   0.000000\n",
       "Default                     0.000000\n",
       "Balance                     0.575094\n",
       "Housing                     0.000000\n",
       "Loan                        0.000000\n",
       "Contact                     0.000000\n",
       "Day                         0.000000\n",
       "Month                       0.000000\n",
       "Duration                    0.000000\n",
       "Campaign                    1.747401\n",
       "Days_Since_Last_Contact     0.000000\n",
       "Previous                    0.000000\n",
       "Previous_Outcome            0.000000\n",
       "Customer_Subscription       0.000000\n",
       "dtype: float64"
      ]
     },
     "execution_count": 126,
     "metadata": {},
     "output_type": "execute_result"
    }
   ],
   "source": [
    "df.isnull().sum()/len(df)*100"
   ]
  },
  {
   "cell_type": "markdown",
   "id": "ed26b29b-db86-4c44-a25f-146bb3157a8e",
   "metadata": {},
   "source": [
    "<center>\n",
    "    <h2 style=\"background-color: navy; color: white;\">\n",
    " Shows the Balance column in df.</h2>\n",
    "</center>"
   ]
  },
  {
   "cell_type": "code",
   "execution_count": 134,
   "id": "a3fc284a-b5f5-4722-b47d-e45f167e59c3",
   "metadata": {},
   "outputs": [
    {
     "data": {
      "text/plain": [
       "0       1787.0\n",
       "1       4789.0\n",
       "2       1350.0\n",
       "3       1476.0\n",
       "4          0.0\n",
       "         ...  \n",
       "4516    -333.0\n",
       "4517   -3313.0\n",
       "4518     295.0\n",
       "4519    1137.0\n",
       "4520    1136.0\n",
       "Name: Balance, Length: 4521, dtype: float64"
      ]
     },
     "execution_count": 134,
     "metadata": {},
     "output_type": "execute_result"
    }
   ],
   "source": [
    "df['Balance']"
   ]
  },
  {
   "cell_type": "markdown",
   "id": "4a10dff8-eaac-4420-8093-d1a0ca37e7df",
   "metadata": {},
   "source": [
    "<center>\n",
    "    <h3 style=\"background-color: navy; color: white;\">\n",
    " Calculates the mean of the Balance column, fills missing values with the mean, and updates the column.</h3>\n",
    "</center>"
   ]
  },
  {
   "cell_type": "code",
   "execution_count": 140,
   "id": "6a68f474-8455-4d0f-a21e-cd580e13860f",
   "metadata": {},
   "outputs": [
    {
     "data": {
      "text/plain": [
       "0       1787.0\n",
       "1       4789.0\n",
       "2       1350.0\n",
       "3       1476.0\n",
       "4          0.0\n",
       "         ...  \n",
       "4516    -333.0\n",
       "4517   -3313.0\n",
       "4518     295.0\n",
       "4519    1137.0\n",
       "4520    1136.0\n",
       "Name: Balance, Length: 4521, dtype: float64"
      ]
     },
     "execution_count": 140,
     "metadata": {},
     "output_type": "execute_result"
    }
   ],
   "source": [
    "df_Balance = df['Balance'].mean()\n",
    "df_Balance \n",
    "df['Balance'] = df['Balance'].fillna(df['Balance'].mean())\n",
    "df['Balance']\n"
   ]
  },
  {
   "cell_type": "markdown",
   "id": "73e085ba-3f92-409f-9b07-855ff61f220c",
   "metadata": {},
   "source": [
    "<center>\n",
    "    <h2 style=\"background-color: navy; color: white;\">\n",
    " Counts missing values in the Balance column.</h2>\n",
    "</center>"
   ]
  },
  {
   "cell_type": "code",
   "execution_count": 142,
   "id": "682d2eba-4de3-4c60-8b4d-25be73b04673",
   "metadata": {},
   "outputs": [
    {
     "data": {
      "text/plain": [
       "0"
      ]
     },
     "execution_count": 142,
     "metadata": {},
     "output_type": "execute_result"
    }
   ],
   "source": [
    "df['Balance'].isna().sum()"
   ]
  },
  {
   "cell_type": "markdown",
   "id": "5d345957-f49e-450c-87a8-64e23ae431c6",
   "metadata": {},
   "source": [
    "<center>\n",
    "    <h2 style=\"background-color: navy; color: white;\">\n",
    "Shows unique values in the Campaign column.</h2>\n",
    "</center>"
   ]
  },
  {
   "cell_type": "code",
   "execution_count": 144,
   "id": "281e5392-cd29-4055-9fd0-30967ab2207d",
   "metadata": {},
   "outputs": [
    {
     "data": {
      "text/plain": [
       "array([ 1., nan,  2.,  4.,  3.,  5.,  6., 10.,  9.,  7., 12., 14., 13.,\n",
       "       24., 11.,  8., 29., 32., 16., 22., 18., 15., 30., 25., 21., 17.,\n",
       "       19., 23., 20., 50., 28., 31., 44.])"
      ]
     },
     "execution_count": 144,
     "metadata": {},
     "output_type": "execute_result"
    }
   ],
   "source": [
    "df['Campaign'].unique()"
   ]
  },
  {
   "cell_type": "markdown",
   "id": "5f6800f6-e3da-43cb-8a4a-2b42e1bc2648",
   "metadata": {},
   "source": [
    "<center>\n",
    "    <h2 style=\"background-color: navy; color: white;\">\n",
    "Shows the most frequent value in the Campaign column.</h2>\n",
    "</center>"
   ]
  },
  {
   "cell_type": "code",
   "execution_count": 146,
   "id": "7076a8e9-ffa8-4ca7-9f97-8c0f122eaa82",
   "metadata": {},
   "outputs": [
    {
     "data": {
      "text/plain": [
       "0    1.0\n",
       "Name: Campaign, dtype: float64"
      ]
     },
     "execution_count": 146,
     "metadata": {},
     "output_type": "execute_result"
    }
   ],
   "source": [
    "df['Campaign'].mode()"
   ]
  },
  {
   "cell_type": "markdown",
   "id": "980195b3-7ee9-4e58-9341-3b70c6dd28b3",
   "metadata": {},
   "source": [
    "<center>\n",
    "    <h2 style=\"background-color: navy; color: white;\">\n",
    "Replaces missing values in Campaign with the mode.</h2>\n",
    "</center>"
   ]
  },
  {
   "cell_type": "code",
   "execution_count": 148,
   "id": "404e2d62-2971-4c51-801a-bb83f946b0d0",
   "metadata": {},
   "outputs": [],
   "source": [
    "df['Campaign'] = df['Campaign'].fillna(df['Campaign'].mode()[0])\n",
    "#Using [0] extracts the first (and typically only) mode value to fill the missing values."
   ]
  },
  {
   "cell_type": "markdown",
   "id": "410c69fe-b435-4c1d-900f-a9c9e835d4dc",
   "metadata": {},
   "source": [
    "<center>\n",
    "    <h2 style=\"background-color: navy; color: white;\">\n",
    "Counts the remaining missing values in the Campaign column.</h2>\n",
    "</center>"
   ]
  },
  {
   "cell_type": "code",
   "execution_count": 150,
   "id": "5ec5c5bd-8e77-4d1b-8e52-4355d91adf70",
   "metadata": {},
   "outputs": [
    {
     "data": {
      "text/plain": [
       "0"
      ]
     },
     "execution_count": 150,
     "metadata": {},
     "output_type": "execute_result"
    }
   ],
   "source": [
    "df['Campaign'].isnull().sum()"
   ]
  },
  {
   "cell_type": "markdown",
   "id": "aec6360d-767f-4bf4-b77f-80e0e21cd5e4",
   "metadata": {},
   "source": [
    "<center>\n",
    "    <h2 style=\"background-color: navy; color: white;\">\n",
    "Counts the number of missing (null) values in each column of df.</h2>\n",
    "</center>"
   ]
  },
  {
   "cell_type": "code",
   "execution_count": 154,
   "id": "85e43a5e-086d-404a-bf33-b9f1b1b3ba54",
   "metadata": {},
   "outputs": [
    {
     "data": {
      "text/plain": [
       "Age                         0\n",
       "Job                         0\n",
       "Marital_Status              0\n",
       "Education                   0\n",
       "Default                     0\n",
       "Balance                     0\n",
       "Housing                     0\n",
       "Loan                        0\n",
       "Contact                     0\n",
       "Day                         0\n",
       "Month                       0\n",
       "Duration                    0\n",
       "Campaign                    0\n",
       "Days_Since_Last_Contact     0\n",
       "Previous                    0\n",
       "Previous_Outcome            0\n",
       "Customer_Subscription       0\n",
       "dtype: int64"
      ]
     },
     "execution_count": 154,
     "metadata": {},
     "output_type": "execute_result"
    }
   ],
   "source": [
    "df.isnull().sum()"
   ]
  },
  {
   "cell_type": "markdown",
   "id": "694aa9ba-c72c-4cb6-89be-659177b84d29",
   "metadata": {},
   "source": [
    "<center>\n",
    "    <h2 style=\"background-color: navy; color: white;\">\n",
    "Shows summary info about df, including column types and non-null counts.</h2>\n",
    "</center>"
   ]
  },
  {
   "cell_type": "code",
   "execution_count": 156,
   "id": "0f2c3fa1-aea9-44d9-a069-721b9553cb59",
   "metadata": {},
   "outputs": [
    {
     "name": "stdout",
     "output_type": "stream",
     "text": [
      "<class 'pandas.core.frame.DataFrame'>\n",
      "RangeIndex: 4521 entries, 0 to 4520\n",
      "Data columns (total 17 columns):\n",
      " #   Column                    Non-Null Count  Dtype   \n",
      "---  ------                    --------------  -----   \n",
      " 0   Age                       4521 non-null   int64   \n",
      " 1   Job                       4521 non-null   category\n",
      " 2   Marital_Status            4521 non-null   category\n",
      " 3   Education                 4521 non-null   category\n",
      " 4   Default                   4521 non-null   category\n",
      " 5   Balance                   4521 non-null   float64 \n",
      " 6   Housing                   4521 non-null   category\n",
      " 7   Loan                      4521 non-null   category\n",
      " 8   Contact                   4521 non-null   category\n",
      " 9   Day                       4521 non-null   int64   \n",
      " 10  Month                     4521 non-null   category\n",
      " 11  Duration                  4521 non-null   int64   \n",
      " 12  Campaign                  4521 non-null   float64 \n",
      " 13  Days_Since_Last_Contact   4521 non-null   int64   \n",
      " 14  Previous                  4521 non-null   int64   \n",
      " 15  Previous_Outcome          4521 non-null   category\n",
      " 16  Customer_Subscription     4521 non-null   category\n",
      "dtypes: category(10), float64(2), int64(5)\n",
      "memory usage: 293.4 KB\n"
     ]
    }
   ],
   "source": [
    "df.info()"
   ]
  },
  {
   "cell_type": "markdown",
   "id": "71b42ec2-701f-4665-b415-8a5652a45a4b",
   "metadata": {},
   "source": [
    "<center>\n",
    "    <h2 style=\"background-color: navy; color: white;\">\n",
    "Displays the column names of df.</h2>\n",
    "</center>"
   ]
  },
  {
   "cell_type": "code",
   "execution_count": 161,
   "id": "f0d4ea22-87d6-49bb-9342-aa8f58d8c0e6",
   "metadata": {},
   "outputs": [
    {
     "data": {
      "text/plain": [
       "Index(['Age', 'Job', 'Marital_Status', 'Education', 'Default', 'Balance',\n",
       "       'Housing', 'Loan', 'Contact', 'Day', 'Month', 'Duration', 'Campaign',\n",
       "       'Days_Since_Last_Contact ', 'Previous', 'Previous_Outcome',\n",
       "       'Customer_Subscription'],\n",
       "      dtype='object')"
      ]
     },
     "execution_count": 161,
     "metadata": {},
     "output_type": "execute_result"
    }
   ],
   "source": [
    "df.columns"
   ]
  },
  {
   "cell_type": "markdown",
   "id": "2782baf1-68d1-45ea-b6d3-9ecb32aee0ef",
   "metadata": {},
   "source": [
    "<center>\n",
    "    <h2 style=\"background-color: navy; color: white;\">\n",
    "Displays the unique values in the Marital_Status column of df.</h2>\n",
    "</center>"
   ]
  },
  {
   "cell_type": "code",
   "execution_count": 163,
   "id": "4a294505-286a-4342-8b28-495bcacb4050",
   "metadata": {},
   "outputs": [
    {
     "data": {
      "text/plain": [
       "['married', 'single', 'divorced']\n",
       "Categories (3, object): ['divorced', 'married', 'single']"
      ]
     },
     "execution_count": 163,
     "metadata": {},
     "output_type": "execute_result"
    }
   ],
   "source": [
    "df['Marital_Status'].unique()"
   ]
  },
  {
   "cell_type": "markdown",
   "id": "824a3d18-7474-4695-bafa-26e643be9678",
   "metadata": {},
   "source": [
    "## Questions\n",
    "\n",
    "### 1. How many married individuals are unemployed?\n",
    " \n",
    "### 2. What is the average age of individuals who subscribed to a term deposit versus those who did not?\n",
    "\n",
    "### 3. How does the average balance vary across different contact months?\n",
    "\n",
    "### 4. How does the average duration of customer calls vary by month?\n",
    "\n",
    "### 5. What is the distribution of marital status (married/single/divorced) across different education levels?"
   ]
  },
  {
   "cell_type": "markdown",
   "id": "498b81b1-393c-4d10-be57-5c5dbe57a704",
   "metadata": {},
   "source": [
    "# **Data Visualization**"
   ]
  },
  {
   "cell_type": "markdown",
   "id": "906849a7-b036-44c1-9a14-5a0a6dd61c71",
   "metadata": {},
   "source": [
    "## 1. How many married individuals are unemployed?"
   ]
  },
  {
   "cell_type": "code",
   "execution_count": 172,
   "id": "6d7ef884-2241-424e-a9ba-bf669b89f7ed",
   "metadata": {},
   "outputs": [
    {
     "data": {
      "text/plain": [
       "Index(['Age', 'Job', 'Marital_Status', 'Education', 'Default', 'Balance',\n",
       "       'Housing', 'Loan', 'Contact', 'Day', 'Month', 'Duration', 'Campaign',\n",
       "       'Days_Since_Last_Contact ', 'Previous', 'Previous_Outcome',\n",
       "       'Customer_Subscription'],\n",
       "      dtype='object')"
      ]
     },
     "execution_count": 172,
     "metadata": {},
     "output_type": "execute_result"
    }
   ],
   "source": [
    "df.columns"
   ]
  },
  {
   "cell_type": "code",
   "execution_count": 174,
   "id": "2d78d618-3899-410b-80dc-f5aa2b63b452",
   "metadata": {},
   "outputs": [
    {
     "data": {
      "text/plain": [
       "['married', 'single', 'divorced']\n",
       "Categories (3, object): ['divorced', 'married', 'single']"
      ]
     },
     "execution_count": 174,
     "metadata": {},
     "output_type": "execute_result"
    }
   ],
   "source": [
    "df['Marital_Status'].unique()"
   ]
  },
  {
   "cell_type": "code",
   "execution_count": 178,
   "id": "be2fc9b2-9050-4b9c-8165-9dff1fd977c6",
   "metadata": {},
   "outputs": [
    {
     "name": "stdout",
     "output_type": "stream",
     "text": [
      "Number of married  and unemployed individuals: 30\n"
     ]
    }
   ],
   "source": [
    "# Filter the dataset for married individuals who are unemployed\n",
    "married_unemployed = df[(df['Marital_Status'] == 'married') & (df['Job'] == 'unknown')]\n",
    "\n",
    "# Count the number of married unemployed individuals\n",
    "count_married_unemployed = married_unemployed.shape[0]\n",
    "print(f\"Number of married  and unemployed individuals: {count_married_unemployed}\")"
   ]
  },
  {
   "cell_type": "code",
   "execution_count": 184,
   "id": "32867adb-e57f-446b-8375-d0ba51e69550",
   "metadata": {},
   "outputs": [
    {
     "data": {
      "image/png": "[encoded data removed]",
      "text/plain": [
       "<Figure size 640x480 with 1 Axes>"
      ]
     },
     "metadata": {},
     "output_type": "display_data"
    }
   ],
   "source": [
    "# Visualization: Pie chart\n",
    "sizes = [count_married_unemployed, df.shape[0] - count_married_unemployed]\n",
    "plt.pie(sizes, labels=['Married Unemployed', 'Other'], autopct='%1.1f%%', startangle=90,\n",
    "        colors=['#ff6666', '#66b3ff'],  shadow=True, wedgeprops={'edgecolor': 'black'})\n",
    "plt.title('Proportion of Married Unemployed Individuals', fontsize=16, fontweight='bold')\n",
    "plt.tight_layout()\n",
    "\n",
    "plt.show()"
   ]
  },
  {
   "cell_type": "markdown",
   "id": "c1effaae-53a1-4f03-841d-a6a3ad8386a2",
   "metadata": {},
   "source": [
    "## **Report**\n",
    "\n",
    " ### The analysis identifies the number of married unemployed individuals in the dataset by filtering for married individuals with an 'Unemployed' job status. The result is visualized using a pie chart to show the proportion of married unemployed individuals compared to the rest. The chart highlights that a small subset of the population falls into this category. This provides insights into the distribution of employment status among married individuals. The visualization aids in understanding the relationship between marital status and employment.\n"
   ]
  },
  {
   "cell_type": "markdown",
   "id": "72b41e93-1311-48ca-bc1e-80fdc252d736",
   "metadata": {},
   "source": [
    "## 2. What is the average age of individuals who subscribed to a term deposit versus those who did not?"
   ]
  },
  {
   "cell_type": "code",
   "execution_count": 196,
   "id": "4042281e-a78b-48bd-a70d-cc8a3e9ecb0e",
   "metadata": {},
   "outputs": [
    {
     "data": {
      "text/plain": [
       "Index(['Age', 'Job', 'Marital_Status', 'Education', 'Default', 'Balance',\n",
       "       'Housing', 'Loan', 'Contact', 'Day', 'Month', 'Duration', 'Campaign',\n",
       "       'Days_Since_Last_Contact ', 'Previous', 'Previous_Outcome',\n",
       "       'Customer_Subscription'],\n",
       "      dtype='object')"
      ]
     },
     "execution_count": 196,
     "metadata": {},
     "output_type": "execute_result"
    }
   ],
   "source": [
    "df.columns"
   ]
  },
  {
   "cell_type": "code",
   "execution_count": 198,
   "id": "9411556a-9a31-4662-9949-15d41e0e9215",
   "metadata": {},
   "outputs": [],
   "source": [
    "# Calculate the average age for both groups: Subscribed and Not Subscribed\n",
    "avg_age_subscribed = df[df['Customer_Subscription'] == 'yes']['Age'].mean()\n",
    "avg_age_not_subscribed = df[df['Customer_Subscription'] == 'no']['Age'].mean()\n"
   ]
  },
  {
   "cell_type": "code",
   "execution_count": 210,
   "id": "6e643857-f671-47de-b7a1-4e6ca1372e1e",
   "metadata": {},
   "outputs": [
    {
     "ename": "FileNotFoundError",
     "evalue": "[Errno 2] No such file or directory: 'D:\\\\Python Project - Dataset\\\\chart1.png'",
     "output_type": "error",
     "traceback": [
      "\u001b[1;31m---------------------------------------------------------------------------\u001b[0m",
      "\u001b[1;31mFileNotFoundError\u001b[0m                         Traceback (most recent call last)",
      "Cell \u001b[1;32mIn[210], line 13\u001b[0m\n\u001b[0;32m     10\u001b[0m plt\u001b[38;5;241m.\u001b[39mtitle(\u001b[38;5;124m'\u001b[39m\u001b[38;5;124mAverage Age of Individuals Who Subscribed vs. Did Not Subscribe to a Term Deposit\u001b[39m\u001b[38;5;124m'\u001b[39m, fontsize\u001b[38;5;241m=\u001b[39m\u001b[38;5;241m16\u001b[39m, fontweight\u001b[38;5;241m=\u001b[39m\u001b[38;5;124m'\u001b[39m\u001b[38;5;124mbold\u001b[39m\u001b[38;5;124m'\u001b[39m)\n\u001b[0;32m     12\u001b[0m \u001b[38;5;66;03m# Show the plot\u001b[39;00m\n\u001b[1;32m---> 13\u001b[0m plt\u001b[38;5;241m.\u001b[39msavefig(\u001b[38;5;124mr\u001b[39m\u001b[38;5;124m\"\u001b[39m\u001b[38;5;124mD:\u001b[39m\u001b[38;5;124m\\\u001b[39m\u001b[38;5;124mPython Project - Dataset\u001b[39m\u001b[38;5;124m\\\u001b[39m\u001b[38;5;124mchart1.png\u001b[39m\u001b[38;5;124m\"\u001b[39m, dpi\u001b[38;5;241m=\u001b[39m\u001b[38;5;241m300\u001b[39m, bbox_inches\u001b[38;5;241m=\u001b[39m\u001b[38;5;124m'\u001b[39m\u001b[38;5;124mtight\u001b[39m\u001b[38;5;124m'\u001b[39m)\n\u001b[0;32m     14\u001b[0m plt\u001b[38;5;241m.\u001b[39mtight_layout()\n\u001b[0;32m     15\u001b[0m plt\u001b[38;5;241m.\u001b[39mshow()\n",
      "File \u001b[1;32m~\\anaconda3\\Lib\\site-packages\\matplotlib\\pyplot.py:1228\u001b[0m, in \u001b[0;36msavefig\u001b[1;34m(*args, **kwargs)\u001b[0m\n\u001b[0;32m   1225\u001b[0m fig \u001b[38;5;241m=\u001b[39m gcf()\n\u001b[0;32m   1226\u001b[0m \u001b[38;5;66;03m# savefig default implementation has no return, so mypy is unhappy\u001b[39;00m\n\u001b[0;32m   1227\u001b[0m \u001b[38;5;66;03m# presumably this is here because subclasses can return?\u001b[39;00m\n\u001b[1;32m-> 1228\u001b[0m res \u001b[38;5;241m=\u001b[39m fig\u001b[38;5;241m.\u001b[39msavefig(\u001b[38;5;241m*\u001b[39margs, \u001b[38;5;241m*\u001b[39m\u001b[38;5;241m*\u001b[39mkwargs)  \u001b[38;5;66;03m# type: ignore[func-returns-value]\u001b[39;00m\n\u001b[0;32m   1229\u001b[0m fig\u001b[38;5;241m.\u001b[39mcanvas\u001b[38;5;241m.\u001b[39mdraw_idle()  \u001b[38;5;66;03m# Need this if 'transparent=True', to reset colors.\u001b[39;00m\n\u001b[0;32m   1230\u001b[0m \u001b[38;5;28;01mreturn\u001b[39;00m res\n",
      "File \u001b[1;32m~\\anaconda3\\Lib\\site-packages\\matplotlib\\figure.py:3395\u001b[0m, in \u001b[0;36mFigure.savefig\u001b[1;34m(self, fname, transparent, **kwargs)\u001b[0m\n\u001b[0;32m   3393\u001b[0m     \u001b[38;5;28;01mfor\u001b[39;00m ax \u001b[38;5;129;01min\u001b[39;00m \u001b[38;5;28mself\u001b[39m\u001b[38;5;241m.\u001b[39maxes:\n\u001b[0;32m   3394\u001b[0m         _recursively_make_axes_transparent(stack, ax)\n\u001b[1;32m-> 3395\u001b[0m \u001b[38;5;28mself\u001b[39m\u001b[38;5;241m.\u001b[39mcanvas\u001b[38;5;241m.\u001b[39mprint_figure(fname, \u001b[38;5;241m*\u001b[39m\u001b[38;5;241m*\u001b[39mkwargs)\n",
      "File \u001b[1;32m~\\anaconda3\\Lib\\site-packages\\matplotlib\\backend_bases.py:2204\u001b[0m, in \u001b[0;36mFigureCanvasBase.print_figure\u001b[1;34m(self, filename, dpi, facecolor, edgecolor, orientation, format, bbox_inches, pad_inches, bbox_extra_artists, backend, **kwargs)\u001b[0m\n\u001b[0;32m   2200\u001b[0m \u001b[38;5;28;01mtry\u001b[39;00m:\n\u001b[0;32m   2201\u001b[0m     \u001b[38;5;66;03m# _get_renderer may change the figure dpi (as vector formats\u001b[39;00m\n\u001b[0;32m   2202\u001b[0m     \u001b[38;5;66;03m# force the figure dpi to 72), so we need to set it again here.\u001b[39;00m\n\u001b[0;32m   2203\u001b[0m     \u001b[38;5;28;01mwith\u001b[39;00m cbook\u001b[38;5;241m.\u001b[39m_setattr_cm(\u001b[38;5;28mself\u001b[39m\u001b[38;5;241m.\u001b[39mfigure, dpi\u001b[38;5;241m=\u001b[39mdpi):\n\u001b[1;32m-> 2204\u001b[0m         result \u001b[38;5;241m=\u001b[39m print_method(\n\u001b[0;32m   2205\u001b[0m             filename,\n\u001b[0;32m   2206\u001b[0m             facecolor\u001b[38;5;241m=\u001b[39mfacecolor,\n\u001b[0;32m   2207\u001b[0m             edgecolor\u001b[38;5;241m=\u001b[39medgecolor,\n\u001b[0;32m   2208\u001b[0m             orientation\u001b[38;5;241m=\u001b[39morientation,\n\u001b[0;32m   2209\u001b[0m             bbox_inches_restore\u001b[38;5;241m=\u001b[39m_bbox_inches_restore,\n\u001b[0;32m   2210\u001b[0m             \u001b[38;5;241m*\u001b[39m\u001b[38;5;241m*\u001b[39mkwargs)\n\u001b[0;32m   2211\u001b[0m \u001b[38;5;28;01mfinally\u001b[39;00m:\n\u001b[0;32m   2212\u001b[0m     \u001b[38;5;28;01mif\u001b[39;00m bbox_inches \u001b[38;5;129;01mand\u001b[39;00m restore_bbox:\n",
      "File \u001b[1;32m~\\anaconda3\\Lib\\site-packages\\matplotlib\\backend_bases.py:2054\u001b[0m, in \u001b[0;36mFigureCanvasBase._switch_canvas_and_return_print_method.<locals>.<lambda>\u001b[1;34m(*args, **kwargs)\u001b[0m\n\u001b[0;32m   2050\u001b[0m     optional_kws \u001b[38;5;241m=\u001b[39m {  \u001b[38;5;66;03m# Passed by print_figure for other renderers.\u001b[39;00m\n\u001b[0;32m   2051\u001b[0m         \u001b[38;5;124m\"\u001b[39m\u001b[38;5;124mdpi\u001b[39m\u001b[38;5;124m\"\u001b[39m, \u001b[38;5;124m\"\u001b[39m\u001b[38;5;124mfacecolor\u001b[39m\u001b[38;5;124m\"\u001b[39m, \u001b[38;5;124m\"\u001b[39m\u001b[38;5;124medgecolor\u001b[39m\u001b[38;5;124m\"\u001b[39m, \u001b[38;5;124m\"\u001b[39m\u001b[38;5;124morientation\u001b[39m\u001b[38;5;124m\"\u001b[39m,\n\u001b[0;32m   2052\u001b[0m         \u001b[38;5;124m\"\u001b[39m\u001b[38;5;124mbbox_inches_restore\u001b[39m\u001b[38;5;124m\"\u001b[39m}\n\u001b[0;32m   2053\u001b[0m     skip \u001b[38;5;241m=\u001b[39m optional_kws \u001b[38;5;241m-\u001b[39m {\u001b[38;5;241m*\u001b[39minspect\u001b[38;5;241m.\u001b[39msignature(meth)\u001b[38;5;241m.\u001b[39mparameters}\n\u001b[1;32m-> 2054\u001b[0m     print_method \u001b[38;5;241m=\u001b[39m functools\u001b[38;5;241m.\u001b[39mwraps(meth)(\u001b[38;5;28;01mlambda\u001b[39;00m \u001b[38;5;241m*\u001b[39margs, \u001b[38;5;241m*\u001b[39m\u001b[38;5;241m*\u001b[39mkwargs: meth(\n\u001b[0;32m   2055\u001b[0m         \u001b[38;5;241m*\u001b[39margs, \u001b[38;5;241m*\u001b[39m\u001b[38;5;241m*\u001b[39m{k: v \u001b[38;5;28;01mfor\u001b[39;00m k, v \u001b[38;5;129;01min\u001b[39;00m kwargs\u001b[38;5;241m.\u001b[39mitems() \u001b[38;5;28;01mif\u001b[39;00m k \u001b[38;5;129;01mnot\u001b[39;00m \u001b[38;5;129;01min\u001b[39;00m skip}))\n\u001b[0;32m   2056\u001b[0m \u001b[38;5;28;01melse\u001b[39;00m:  \u001b[38;5;66;03m# Let third-parties do as they see fit.\u001b[39;00m\n\u001b[0;32m   2057\u001b[0m     print_method \u001b[38;5;241m=\u001b[39m meth\n",
      "File \u001b[1;32m~\\anaconda3\\Lib\\site-packages\\matplotlib\\backends\\backend_agg.py:496\u001b[0m, in \u001b[0;36mFigureCanvasAgg.print_png\u001b[1;34m(self, filename_or_obj, metadata, pil_kwargs)\u001b[0m\n\u001b[0;32m    449\u001b[0m \u001b[38;5;28;01mdef\u001b[39;00m \u001b[38;5;21mprint_png\u001b[39m(\u001b[38;5;28mself\u001b[39m, filename_or_obj, \u001b[38;5;241m*\u001b[39m, metadata\u001b[38;5;241m=\u001b[39m\u001b[38;5;28;01mNone\u001b[39;00m, pil_kwargs\u001b[38;5;241m=\u001b[39m\u001b[38;5;28;01mNone\u001b[39;00m):\n\u001b[0;32m    450\u001b[0m \u001b[38;5;250m    \u001b[39m\u001b[38;5;124;03m\"\"\"\u001b[39;00m\n\u001b[0;32m    451\u001b[0m \u001b[38;5;124;03m    Write the figure to a PNG file.\u001b[39;00m\n\u001b[0;32m    452\u001b[0m \n\u001b[1;32m   (...)\u001b[0m\n\u001b[0;32m    494\u001b[0m \u001b[38;5;124;03m        *metadata*, including the default 'Software' key.\u001b[39;00m\n\u001b[0;32m    495\u001b[0m \u001b[38;5;124;03m    \"\"\"\u001b[39;00m\n\u001b[1;32m--> 496\u001b[0m     \u001b[38;5;28mself\u001b[39m\u001b[38;5;241m.\u001b[39m_print_pil(filename_or_obj, \u001b[38;5;124m\"\u001b[39m\u001b[38;5;124mpng\u001b[39m\u001b[38;5;124m\"\u001b[39m, pil_kwargs, metadata)\n",
      "File \u001b[1;32m~\\anaconda3\\Lib\\site-packages\\matplotlib\\backends\\backend_agg.py:445\u001b[0m, in \u001b[0;36mFigureCanvasAgg._print_pil\u001b[1;34m(self, filename_or_obj, fmt, pil_kwargs, metadata)\u001b[0m\n\u001b[0;32m    440\u001b[0m \u001b[38;5;250m\u001b[39m\u001b[38;5;124;03m\"\"\"\u001b[39;00m\n\u001b[0;32m    441\u001b[0m \u001b[38;5;124;03mDraw the canvas, then save it using `.image.imsave` (to which\u001b[39;00m\n\u001b[0;32m    442\u001b[0m \u001b[38;5;124;03m*pil_kwargs* and *metadata* are forwarded).\u001b[39;00m\n\u001b[0;32m    443\u001b[0m \u001b[38;5;124;03m\"\"\"\u001b[39;00m\n\u001b[0;32m    444\u001b[0m FigureCanvasAgg\u001b[38;5;241m.\u001b[39mdraw(\u001b[38;5;28mself\u001b[39m)\n\u001b[1;32m--> 445\u001b[0m mpl\u001b[38;5;241m.\u001b[39mimage\u001b[38;5;241m.\u001b[39mimsave(\n\u001b[0;32m    446\u001b[0m     filename_or_obj, \u001b[38;5;28mself\u001b[39m\u001b[38;5;241m.\u001b[39mbuffer_rgba(), \u001b[38;5;28mformat\u001b[39m\u001b[38;5;241m=\u001b[39mfmt, origin\u001b[38;5;241m=\u001b[39m\u001b[38;5;124m\"\u001b[39m\u001b[38;5;124mupper\u001b[39m\u001b[38;5;124m\"\u001b[39m,\n\u001b[0;32m    447\u001b[0m     dpi\u001b[38;5;241m=\u001b[39m\u001b[38;5;28mself\u001b[39m\u001b[38;5;241m.\u001b[39mfigure\u001b[38;5;241m.\u001b[39mdpi, metadata\u001b[38;5;241m=\u001b[39mmetadata, pil_kwargs\u001b[38;5;241m=\u001b[39mpil_kwargs)\n",
      "File \u001b[1;32m~\\anaconda3\\Lib\\site-packages\\matplotlib\\image.py:1676\u001b[0m, in \u001b[0;36mimsave\u001b[1;34m(fname, arr, vmin, vmax, cmap, format, origin, dpi, metadata, pil_kwargs)\u001b[0m\n\u001b[0;32m   1674\u001b[0m pil_kwargs\u001b[38;5;241m.\u001b[39msetdefault(\u001b[38;5;124m\"\u001b[39m\u001b[38;5;124mformat\u001b[39m\u001b[38;5;124m\"\u001b[39m, \u001b[38;5;28mformat\u001b[39m)\n\u001b[0;32m   1675\u001b[0m pil_kwargs\u001b[38;5;241m.\u001b[39msetdefault(\u001b[38;5;124m\"\u001b[39m\u001b[38;5;124mdpi\u001b[39m\u001b[38;5;124m\"\u001b[39m, (dpi, dpi))\n\u001b[1;32m-> 1676\u001b[0m image\u001b[38;5;241m.\u001b[39msave(fname, \u001b[38;5;241m*\u001b[39m\u001b[38;5;241m*\u001b[39mpil_kwargs)\n",
      "File \u001b[1;32m~\\anaconda3\\Lib\\site-packages\\PIL\\Image.py:2563\u001b[0m, in \u001b[0;36mImage.save\u001b[1;34m(self, fp, format, **params)\u001b[0m\n\u001b[0;32m   2561\u001b[0m         fp \u001b[38;5;241m=\u001b[39m builtins\u001b[38;5;241m.\u001b[39mopen(filename, \u001b[38;5;124m\"\u001b[39m\u001b[38;5;124mr+b\u001b[39m\u001b[38;5;124m\"\u001b[39m)\n\u001b[0;32m   2562\u001b[0m     \u001b[38;5;28;01melse\u001b[39;00m:\n\u001b[1;32m-> 2563\u001b[0m         fp \u001b[38;5;241m=\u001b[39m builtins\u001b[38;5;241m.\u001b[39mopen(filename, \u001b[38;5;124m\"\u001b[39m\u001b[38;5;124mw+b\u001b[39m\u001b[38;5;124m\"\u001b[39m)\n\u001b[0;32m   2564\u001b[0m \u001b[38;5;28;01melse\u001b[39;00m:\n\u001b[0;32m   2565\u001b[0m     fp \u001b[38;5;241m=\u001b[39m cast(IO[\u001b[38;5;28mbytes\u001b[39m], fp)\n",
      "\u001b[1;31mFileNotFoundError\u001b[0m: [Errno 2] No such file or directory: 'D:\\\\Python Project - Dataset\\\\chart1.png'"
     ]
    },
    {
     "data": {
      "image/png": "[encoded data removed]",
      "text/plain": [
       "<Figure size 1000x600 with 1 Axes>"
      ]
     },
     "metadata": {},
     "output_type": "display_data"
    }
   ],
   "source": [
    "# Data for pie chart\n",
    "labels = ['Subscribed', 'Not Subscribed']\n",
    "average_ages = [avg_age_subscribed, avg_age_not_subscribed]\n",
    "\n",
    "# Create a pie chart\n",
    "plt.figure(figsize=(10,6))\n",
    "plt.pie(average_ages, labels=labels, autopct='%1.1f%%', startangle=140, colors=['#66b3ff', '#ff9999'])\n",
    "\n",
    "# Adding title\n",
    "plt.title('Average Age of Individuals Who Subscribed vs. Did Not Subscribe to a Term Deposit', fontsize=16, fontweight='bold')\n",
    "\n",
    "# Show the plot\n",
    "plt.savefig(r\"D:\\Python Project - Dataset\\chart1.png\", dpi=300, bbox_inches='tight')\n",
    "plt.tight_layout()\n",
    "plt.show()\n"
   ]
  },
  {
   "cell_type": "markdown",
   "id": "859fbf90-f78c-42b8-aee4-b945b2e46f8c",
   "metadata": {},
   "source": [
    "\n"
   ]
  },
  {
   "cell_type": "markdown",
   "id": "5b2258cc-244a-4ed9-a4fd-1ddba0fb8b75",
   "metadata": {},
   "source": [
    "## **Report**\n",
    "\n",
    "### The analysis compares the average age of individuals who subscribed and those who did not to a term deposit using a pie chart. The chart highlights the demographic differences between the two groups. It shows that individuals who subscribed have a distinct average age compared to those who did not. This information can help refine marketing strategies targeted at specific age groups. The visualization provides a clear view of the age distribution in relation to term deposit subscriptions.."
   ]
  },
  {
   "cell_type": "markdown",
   "id": "c37eaa07-df97-4bef-b02d-4ca035fe4d9c",
   "metadata": {},
   "source": [
    " ## 3. How does the average balance vary across different contact months?¶"
   ]
  },
  {
   "cell_type": "code",
   "execution_count": 216,
   "id": "f324aba8-610f-4d55-82b8-afe3121cc48b",
   "metadata": {},
   "outputs": [
    {
     "name": "stderr",
     "output_type": "stream",
     "text": [
      "C:\\Users\\mohit\\AppData\\Local\\Temp\\ipykernel_6756\\904898390.py:2: FutureWarning: The default of observed=False is deprecated and will be changed to True in a future version of pandas. Pass observed=False to retain current behavior or observed=True to adopt the future default and silence this warning.\n",
      "  avg_balance_per_month = df.groupby('Month')['Balance'].mean()\n"
     ]
    },
    {
     "data": {
      "text/plain": [
       "Month\n",
       "apr    1654.243369\n",
       "aug    1457.211323\n",
       "dec    3567.150000\n",
       "feb    1321.461534\n",
       "jan     985.832118\n",
       "jul     794.740464\n",
       "jun    1887.296536\n",
       "mar    2049.530612\n",
       "may    1102.989819\n",
       "nov    2593.759144\n",
       "oct    2738.650000\n",
       "sep    1589.346154\n",
       "Name: Balance, dtype: float64"
      ]
     },
     "execution_count": 216,
     "metadata": {},
     "output_type": "execute_result"
    }
   ],
   "source": [
    "# Group by 'Month' and calculate the average balance for each month\n",
    "avg_balance_per_month = df.groupby('Month')['Balance'].mean()\n",
    "avg_balance_per_month "
   ]
  },
  {
   "cell_type": "code",
   "execution_count": 218,
   "id": "1df1fe8b-6551-41ab-bea8-06418c8f231e",
   "metadata": {},
   "outputs": [
    {
     "ename": "FileNotFoundError",
     "evalue": "[Errno 2] No such file or directory: 'D:\\\\Python Project - Dataset\\\\chart2.png'",
     "output_type": "error",
     "traceback": [
      "\u001b[1;31m---------------------------------------------------------------------------\u001b[0m",
      "\u001b[1;31mFileNotFoundError\u001b[0m                         Traceback (most recent call last)",
      "Cell \u001b[1;32mIn[218], line 12\u001b[0m\n\u001b[0;32m     10\u001b[0m \u001b[38;5;66;03m# Show the plot\u001b[39;00m\n\u001b[0;32m     11\u001b[0m plt\u001b[38;5;241m.\u001b[39mtight_layout()\n\u001b[1;32m---> 12\u001b[0m plt\u001b[38;5;241m.\u001b[39msavefig(\u001b[38;5;124mr\u001b[39m\u001b[38;5;124m\"\u001b[39m\u001b[38;5;124mD:\u001b[39m\u001b[38;5;124m\\\u001b[39m\u001b[38;5;124mPython Project - Dataset\u001b[39m\u001b[38;5;124m\\\u001b[39m\u001b[38;5;124mchart2.png\u001b[39m\u001b[38;5;124m\"\u001b[39m, dpi\u001b[38;5;241m=\u001b[39m\u001b[38;5;241m300\u001b[39m, bbox_inches\u001b[38;5;241m=\u001b[39m\u001b[38;5;124m'\u001b[39m\u001b[38;5;124mtight\u001b[39m\u001b[38;5;124m'\u001b[39m)\n\u001b[0;32m     13\u001b[0m plt\u001b[38;5;241m.\u001b[39mshow()\n",
      "File \u001b[1;32m~\\anaconda3\\Lib\\site-packages\\matplotlib\\pyplot.py:1228\u001b[0m, in \u001b[0;36msavefig\u001b[1;34m(*args, **kwargs)\u001b[0m\n\u001b[0;32m   1225\u001b[0m fig \u001b[38;5;241m=\u001b[39m gcf()\n\u001b[0;32m   1226\u001b[0m \u001b[38;5;66;03m# savefig default implementation has no return, so mypy is unhappy\u001b[39;00m\n\u001b[0;32m   1227\u001b[0m \u001b[38;5;66;03m# presumably this is here because subclasses can return?\u001b[39;00m\n\u001b[1;32m-> 1228\u001b[0m res \u001b[38;5;241m=\u001b[39m fig\u001b[38;5;241m.\u001b[39msavefig(\u001b[38;5;241m*\u001b[39margs, \u001b[38;5;241m*\u001b[39m\u001b[38;5;241m*\u001b[39mkwargs)  \u001b[38;5;66;03m# type: ignore[func-returns-value]\u001b[39;00m\n\u001b[0;32m   1229\u001b[0m fig\u001b[38;5;241m.\u001b[39mcanvas\u001b[38;5;241m.\u001b[39mdraw_idle()  \u001b[38;5;66;03m# Need this if 'transparent=True', to reset colors.\u001b[39;00m\n\u001b[0;32m   1230\u001b[0m \u001b[38;5;28;01mreturn\u001b[39;00m res\n",
      "File \u001b[1;32m~\\anaconda3\\Lib\\site-packages\\matplotlib\\figure.py:3395\u001b[0m, in \u001b[0;36mFigure.savefig\u001b[1;34m(self, fname, transparent, **kwargs)\u001b[0m\n\u001b[0;32m   3393\u001b[0m     \u001b[38;5;28;01mfor\u001b[39;00m ax \u001b[38;5;129;01min\u001b[39;00m \u001b[38;5;28mself\u001b[39m\u001b[38;5;241m.\u001b[39maxes:\n\u001b[0;32m   3394\u001b[0m         _recursively_make_axes_transparent(stack, ax)\n\u001b[1;32m-> 3395\u001b[0m \u001b[38;5;28mself\u001b[39m\u001b[38;5;241m.\u001b[39mcanvas\u001b[38;5;241m.\u001b[39mprint_figure(fname, \u001b[38;5;241m*\u001b[39m\u001b[38;5;241m*\u001b[39mkwargs)\n",
      "File \u001b[1;32m~\\anaconda3\\Lib\\site-packages\\matplotlib\\backend_bases.py:2204\u001b[0m, in \u001b[0;36mFigureCanvasBase.print_figure\u001b[1;34m(self, filename, dpi, facecolor, edgecolor, orientation, format, bbox_inches, pad_inches, bbox_extra_artists, backend, **kwargs)\u001b[0m\n\u001b[0;32m   2200\u001b[0m \u001b[38;5;28;01mtry\u001b[39;00m:\n\u001b[0;32m   2201\u001b[0m     \u001b[38;5;66;03m# _get_renderer may change the figure dpi (as vector formats\u001b[39;00m\n\u001b[0;32m   2202\u001b[0m     \u001b[38;5;66;03m# force the figure dpi to 72), so we need to set it again here.\u001b[39;00m\n\u001b[0;32m   2203\u001b[0m     \u001b[38;5;28;01mwith\u001b[39;00m cbook\u001b[38;5;241m.\u001b[39m_setattr_cm(\u001b[38;5;28mself\u001b[39m\u001b[38;5;241m.\u001b[39mfigure, dpi\u001b[38;5;241m=\u001b[39mdpi):\n\u001b[1;32m-> 2204\u001b[0m         result \u001b[38;5;241m=\u001b[39m print_method(\n\u001b[0;32m   2205\u001b[0m             filename,\n\u001b[0;32m   2206\u001b[0m             facecolor\u001b[38;5;241m=\u001b[39mfacecolor,\n\u001b[0;32m   2207\u001b[0m             edgecolor\u001b[38;5;241m=\u001b[39medgecolor,\n\u001b[0;32m   2208\u001b[0m             orientation\u001b[38;5;241m=\u001b[39morientation,\n\u001b[0;32m   2209\u001b[0m             bbox_inches_restore\u001b[38;5;241m=\u001b[39m_bbox_inches_restore,\n\u001b[0;32m   2210\u001b[0m             \u001b[38;5;241m*\u001b[39m\u001b[38;5;241m*\u001b[39mkwargs)\n\u001b[0;32m   2211\u001b[0m \u001b[38;5;28;01mfinally\u001b[39;00m:\n\u001b[0;32m   2212\u001b[0m     \u001b[38;5;28;01mif\u001b[39;00m bbox_inches \u001b[38;5;129;01mand\u001b[39;00m restore_bbox:\n",
      "File \u001b[1;32m~\\anaconda3\\Lib\\site-packages\\matplotlib\\backend_bases.py:2054\u001b[0m, in \u001b[0;36mFigureCanvasBase._switch_canvas_and_return_print_method.<locals>.<lambda>\u001b[1;34m(*args, **kwargs)\u001b[0m\n\u001b[0;32m   2050\u001b[0m     optional_kws \u001b[38;5;241m=\u001b[39m {  \u001b[38;5;66;03m# Passed by print_figure for other renderers.\u001b[39;00m\n\u001b[0;32m   2051\u001b[0m         \u001b[38;5;124m\"\u001b[39m\u001b[38;5;124mdpi\u001b[39m\u001b[38;5;124m\"\u001b[39m, \u001b[38;5;124m\"\u001b[39m\u001b[38;5;124mfacecolor\u001b[39m\u001b[38;5;124m\"\u001b[39m, \u001b[38;5;124m\"\u001b[39m\u001b[38;5;124medgecolor\u001b[39m\u001b[38;5;124m\"\u001b[39m, \u001b[38;5;124m\"\u001b[39m\u001b[38;5;124morientation\u001b[39m\u001b[38;5;124m\"\u001b[39m,\n\u001b[0;32m   2052\u001b[0m         \u001b[38;5;124m\"\u001b[39m\u001b[38;5;124mbbox_inches_restore\u001b[39m\u001b[38;5;124m\"\u001b[39m}\n\u001b[0;32m   2053\u001b[0m     skip \u001b[38;5;241m=\u001b[39m optional_kws \u001b[38;5;241m-\u001b[39m {\u001b[38;5;241m*\u001b[39minspect\u001b[38;5;241m.\u001b[39msignature(meth)\u001b[38;5;241m.\u001b[39mparameters}\n\u001b[1;32m-> 2054\u001b[0m     print_method \u001b[38;5;241m=\u001b[39m functools\u001b[38;5;241m.\u001b[39mwraps(meth)(\u001b[38;5;28;01mlambda\u001b[39;00m \u001b[38;5;241m*\u001b[39margs, \u001b[38;5;241m*\u001b[39m\u001b[38;5;241m*\u001b[39mkwargs: meth(\n\u001b[0;32m   2055\u001b[0m         \u001b[38;5;241m*\u001b[39margs, \u001b[38;5;241m*\u001b[39m\u001b[38;5;241m*\u001b[39m{k: v \u001b[38;5;28;01mfor\u001b[39;00m k, v \u001b[38;5;129;01min\u001b[39;00m kwargs\u001b[38;5;241m.\u001b[39mitems() \u001b[38;5;28;01mif\u001b[39;00m k \u001b[38;5;129;01mnot\u001b[39;00m \u001b[38;5;129;01min\u001b[39;00m skip}))\n\u001b[0;32m   2056\u001b[0m \u001b[38;5;28;01melse\u001b[39;00m:  \u001b[38;5;66;03m# Let third-parties do as they see fit.\u001b[39;00m\n\u001b[0;32m   2057\u001b[0m     print_method \u001b[38;5;241m=\u001b[39m meth\n",
      "File \u001b[1;32m~\\anaconda3\\Lib\\site-packages\\matplotlib\\backends\\backend_agg.py:496\u001b[0m, in \u001b[0;36mFigureCanvasAgg.print_png\u001b[1;34m(self, filename_or_obj, metadata, pil_kwargs)\u001b[0m\n\u001b[0;32m    449\u001b[0m \u001b[38;5;28;01mdef\u001b[39;00m \u001b[38;5;21mprint_png\u001b[39m(\u001b[38;5;28mself\u001b[39m, filename_or_obj, \u001b[38;5;241m*\u001b[39m, metadata\u001b[38;5;241m=\u001b[39m\u001b[38;5;28;01mNone\u001b[39;00m, pil_kwargs\u001b[38;5;241m=\u001b[39m\u001b[38;5;28;01mNone\u001b[39;00m):\n\u001b[0;32m    450\u001b[0m \u001b[38;5;250m    \u001b[39m\u001b[38;5;124;03m\"\"\"\u001b[39;00m\n\u001b[0;32m    451\u001b[0m \u001b[38;5;124;03m    Write the figure to a PNG file.\u001b[39;00m\n\u001b[0;32m    452\u001b[0m \n\u001b[1;32m   (...)\u001b[0m\n\u001b[0;32m    494\u001b[0m \u001b[38;5;124;03m        *metadata*, including the default 'Software' key.\u001b[39;00m\n\u001b[0;32m    495\u001b[0m \u001b[38;5;124;03m    \"\"\"\u001b[39;00m\n\u001b[1;32m--> 496\u001b[0m     \u001b[38;5;28mself\u001b[39m\u001b[38;5;241m.\u001b[39m_print_pil(filename_or_obj, \u001b[38;5;124m\"\u001b[39m\u001b[38;5;124mpng\u001b[39m\u001b[38;5;124m\"\u001b[39m, pil_kwargs, metadata)\n",
      "File \u001b[1;32m~\\anaconda3\\Lib\\site-packages\\matplotlib\\backends\\backend_agg.py:445\u001b[0m, in \u001b[0;36mFigureCanvasAgg._print_pil\u001b[1;34m(self, filename_or_obj, fmt, pil_kwargs, metadata)\u001b[0m\n\u001b[0;32m    440\u001b[0m \u001b[38;5;250m\u001b[39m\u001b[38;5;124;03m\"\"\"\u001b[39;00m\n\u001b[0;32m    441\u001b[0m \u001b[38;5;124;03mDraw the canvas, then save it using `.image.imsave` (to which\u001b[39;00m\n\u001b[0;32m    442\u001b[0m \u001b[38;5;124;03m*pil_kwargs* and *metadata* are forwarded).\u001b[39;00m\n\u001b[0;32m    443\u001b[0m \u001b[38;5;124;03m\"\"\"\u001b[39;00m\n\u001b[0;32m    444\u001b[0m FigureCanvasAgg\u001b[38;5;241m.\u001b[39mdraw(\u001b[38;5;28mself\u001b[39m)\n\u001b[1;32m--> 445\u001b[0m mpl\u001b[38;5;241m.\u001b[39mimage\u001b[38;5;241m.\u001b[39mimsave(\n\u001b[0;32m    446\u001b[0m     filename_or_obj, \u001b[38;5;28mself\u001b[39m\u001b[38;5;241m.\u001b[39mbuffer_rgba(), \u001b[38;5;28mformat\u001b[39m\u001b[38;5;241m=\u001b[39mfmt, origin\u001b[38;5;241m=\u001b[39m\u001b[38;5;124m\"\u001b[39m\u001b[38;5;124mupper\u001b[39m\u001b[38;5;124m\"\u001b[39m,\n\u001b[0;32m    447\u001b[0m     dpi\u001b[38;5;241m=\u001b[39m\u001b[38;5;28mself\u001b[39m\u001b[38;5;241m.\u001b[39mfigure\u001b[38;5;241m.\u001b[39mdpi, metadata\u001b[38;5;241m=\u001b[39mmetadata, pil_kwargs\u001b[38;5;241m=\u001b[39mpil_kwargs)\n",
      "File \u001b[1;32m~\\anaconda3\\Lib\\site-packages\\matplotlib\\image.py:1676\u001b[0m, in \u001b[0;36mimsave\u001b[1;34m(fname, arr, vmin, vmax, cmap, format, origin, dpi, metadata, pil_kwargs)\u001b[0m\n\u001b[0;32m   1674\u001b[0m pil_kwargs\u001b[38;5;241m.\u001b[39msetdefault(\u001b[38;5;124m\"\u001b[39m\u001b[38;5;124mformat\u001b[39m\u001b[38;5;124m\"\u001b[39m, \u001b[38;5;28mformat\u001b[39m)\n\u001b[0;32m   1675\u001b[0m pil_kwargs\u001b[38;5;241m.\u001b[39msetdefault(\u001b[38;5;124m\"\u001b[39m\u001b[38;5;124mdpi\u001b[39m\u001b[38;5;124m\"\u001b[39m, (dpi, dpi))\n\u001b[1;32m-> 1676\u001b[0m image\u001b[38;5;241m.\u001b[39msave(fname, \u001b[38;5;241m*\u001b[39m\u001b[38;5;241m*\u001b[39mpil_kwargs)\n",
      "File \u001b[1;32m~\\anaconda3\\Lib\\site-packages\\PIL\\Image.py:2563\u001b[0m, in \u001b[0;36mImage.save\u001b[1;34m(self, fp, format, **params)\u001b[0m\n\u001b[0;32m   2561\u001b[0m         fp \u001b[38;5;241m=\u001b[39m builtins\u001b[38;5;241m.\u001b[39mopen(filename, \u001b[38;5;124m\"\u001b[39m\u001b[38;5;124mr+b\u001b[39m\u001b[38;5;124m\"\u001b[39m)\n\u001b[0;32m   2562\u001b[0m     \u001b[38;5;28;01melse\u001b[39;00m:\n\u001b[1;32m-> 2563\u001b[0m         fp \u001b[38;5;241m=\u001b[39m builtins\u001b[38;5;241m.\u001b[39mopen(filename, \u001b[38;5;124m\"\u001b[39m\u001b[38;5;124mw+b\u001b[39m\u001b[38;5;124m\"\u001b[39m)\n\u001b[0;32m   2564\u001b[0m \u001b[38;5;28;01melse\u001b[39;00m:\n\u001b[0;32m   2565\u001b[0m     fp \u001b[38;5;241m=\u001b[39m cast(IO[\u001b[38;5;28mbytes\u001b[39m], fp)\n",
      "\u001b[1;31mFileNotFoundError\u001b[0m: [Errno 2] No such file or directory: 'D:\\\\Python Project - Dataset\\\\chart2.png'"
     ]
    },
    {
     "data": {
      "image/png": "[encoded data removed]",
      "text/plain": [
       "<Figure size 1000x600 with 1 Axes>"
      ]
     },
     "metadata": {},
     "output_type": "display_data"
    }
   ],
   "source": [
    "# Visualization: Horizontal bar chart for average balance across months with similar colors\n",
    "plt.figure(figsize=(10,6))\n",
    "avg_balance_per_month.plot(kind='barh', color=['#66b3ff', '#ff9999', '#66b3ff', '#ff9999', '#66b3ff', '#ff9999', '#66b3ff', '#ff9999', '#66b3ff', '#ff9999', '#66b3ff', '#ff9999'])\n",
    "\n",
    "# Adding titles and labels\n",
    "plt.title('Average Balance Across Different Contact Months', fontsize=16, fontweight='bold')\n",
    "plt.ylabel('Month', fontsize=12)\n",
    "plt.xlabel('Average Balance', fontsize=12)\n",
    "\n",
    "# Show the plot\n",
    "plt.tight_layout()\n",
    "plt.savefig(r\"D:\\Python Project - Dataset\\chart2.png\", dpi=300, bbox_inches='tight')\n",
    "plt.show()\n"
   ]
  },
  {
   "cell_type": "markdown",
   "id": "d8a65704-fde8-4a1c-8253-b3399ad98cad",
   "metadata": {},
   "source": [
    "##  **Report**\n",
    " ### The analysis shows how the average balance varies across different contact months using a horizontal bar chart. The chart reveals fluctuations in average balance throughout the months, with some months having higher average balances than others. These variations might be linked to seasonal factors or marketing campaigns. The visualization provides insights into customer behavior and financial patterns, which could inform targeted marketing strategies. It also highlights months with significant changes in customer balances.\n"
   ]
  },
  {
   "cell_type": "markdown",
   "id": "8eda800b-f287-4a66-88d2-6b7e79e0b09e",
   "metadata": {},
   "source": [
    " ## 4. How does the average duration of customer calls vary by month?"
   ]
  },
  {
   "cell_type": "code",
   "execution_count": 224,
   "id": "5e3cc489-9ba3-4cd4-aaab-b34192f9f24b",
   "metadata": {},
   "outputs": [
    {
     "name": "stderr",
     "output_type": "stream",
     "text": [
      "C:\\Users\\mohit\\AppData\\Local\\Temp\\ipykernel_6756\\3341102752.py:2: FutureWarning: The default of observed=False is deprecated and will be changed to True in a future version of pandas. Pass observed=False to retain current behavior or observed=True to adopt the future default and silence this warning.\n",
      "  avg_duration_per_month = df.groupby('Month')['Duration'].mean()\n"
     ]
    },
    {
     "data": {
      "text/plain": [
       "Month\n",
       "apr    294.354949\n",
       "aug    243.742496\n",
       "dec    416.900000\n",
       "feb    255.698198\n",
       "jan    269.540541\n",
       "jul    271.205382\n",
       "jun    252.425612\n",
       "mar    198.897959\n",
       "may    267.316166\n",
       "nov    272.066838\n",
       "oct    272.800000\n",
       "sep    215.730769\n",
       "Name: Duration, dtype: float64"
      ]
     },
     "execution_count": 224,
     "metadata": {},
     "output_type": "execute_result"
    }
   ],
   "source": [
    "# Group by 'Month' and calculate the average duration of customer calls for each month\n",
    "avg_duration_per_month = df.groupby('Month')['Duration'].mean()\n",
    "avg_duration_per_month"
   ]
  },
  {
   "cell_type": "code",
   "execution_count": 226,
   "id": "7c533204-e4a5-4a42-83fc-4ff27407168b",
   "metadata": {},
   "outputs": [
    {
     "ename": "FileNotFoundError",
     "evalue": "[Errno 2] No such file or directory: 'D:\\\\Python Project - Dataset\\\\chart3.png'",
     "output_type": "error",
     "traceback": [
      "\u001b[1;31m---------------------------------------------------------------------------\u001b[0m",
      "\u001b[1;31mFileNotFoundError\u001b[0m                         Traceback (most recent call last)",
      "Cell \u001b[1;32mIn[226], line 14\u001b[0m\n\u001b[0;32m     12\u001b[0m plt\u001b[38;5;241m.\u001b[39mgrid(\u001b[38;5;28;01mTrue\u001b[39;00m)\n\u001b[0;32m     13\u001b[0m plt\u001b[38;5;241m.\u001b[39mtight_layout()\n\u001b[1;32m---> 14\u001b[0m plt\u001b[38;5;241m.\u001b[39msavefig(\u001b[38;5;124mr\u001b[39m\u001b[38;5;124m\"\u001b[39m\u001b[38;5;124mD:\u001b[39m\u001b[38;5;124m\\\u001b[39m\u001b[38;5;124mPython Project - Dataset\u001b[39m\u001b[38;5;124m\\\u001b[39m\u001b[38;5;124mchart3.png\u001b[39m\u001b[38;5;124m\"\u001b[39m, dpi\u001b[38;5;241m=\u001b[39m\u001b[38;5;241m300\u001b[39m, bbox_inches\u001b[38;5;241m=\u001b[39m\u001b[38;5;124m'\u001b[39m\u001b[38;5;124mtight\u001b[39m\u001b[38;5;124m'\u001b[39m)\n\u001b[0;32m     15\u001b[0m plt\u001b[38;5;241m.\u001b[39mshow()\n",
      "File \u001b[1;32m~\\anaconda3\\Lib\\site-packages\\matplotlib\\pyplot.py:1228\u001b[0m, in \u001b[0;36msavefig\u001b[1;34m(*args, **kwargs)\u001b[0m\n\u001b[0;32m   1225\u001b[0m fig \u001b[38;5;241m=\u001b[39m gcf()\n\u001b[0;32m   1226\u001b[0m \u001b[38;5;66;03m# savefig default implementation has no return, so mypy is unhappy\u001b[39;00m\n\u001b[0;32m   1227\u001b[0m \u001b[38;5;66;03m# presumably this is here because subclasses can return?\u001b[39;00m\n\u001b[1;32m-> 1228\u001b[0m res \u001b[38;5;241m=\u001b[39m fig\u001b[38;5;241m.\u001b[39msavefig(\u001b[38;5;241m*\u001b[39margs, \u001b[38;5;241m*\u001b[39m\u001b[38;5;241m*\u001b[39mkwargs)  \u001b[38;5;66;03m# type: ignore[func-returns-value]\u001b[39;00m\n\u001b[0;32m   1229\u001b[0m fig\u001b[38;5;241m.\u001b[39mcanvas\u001b[38;5;241m.\u001b[39mdraw_idle()  \u001b[38;5;66;03m# Need this if 'transparent=True', to reset colors.\u001b[39;00m\n\u001b[0;32m   1230\u001b[0m \u001b[38;5;28;01mreturn\u001b[39;00m res\n",
      "File \u001b[1;32m~\\anaconda3\\Lib\\site-packages\\matplotlib\\figure.py:3395\u001b[0m, in \u001b[0;36mFigure.savefig\u001b[1;34m(self, fname, transparent, **kwargs)\u001b[0m\n\u001b[0;32m   3393\u001b[0m     \u001b[38;5;28;01mfor\u001b[39;00m ax \u001b[38;5;129;01min\u001b[39;00m \u001b[38;5;28mself\u001b[39m\u001b[38;5;241m.\u001b[39maxes:\n\u001b[0;32m   3394\u001b[0m         _recursively_make_axes_transparent(stack, ax)\n\u001b[1;32m-> 3395\u001b[0m \u001b[38;5;28mself\u001b[39m\u001b[38;5;241m.\u001b[39mcanvas\u001b[38;5;241m.\u001b[39mprint_figure(fname, \u001b[38;5;241m*\u001b[39m\u001b[38;5;241m*\u001b[39mkwargs)\n",
      "File \u001b[1;32m~\\anaconda3\\Lib\\site-packages\\matplotlib\\backend_bases.py:2204\u001b[0m, in \u001b[0;36mFigureCanvasBase.print_figure\u001b[1;34m(self, filename, dpi, facecolor, edgecolor, orientation, format, bbox_inches, pad_inches, bbox_extra_artists, backend, **kwargs)\u001b[0m\n\u001b[0;32m   2200\u001b[0m \u001b[38;5;28;01mtry\u001b[39;00m:\n\u001b[0;32m   2201\u001b[0m     \u001b[38;5;66;03m# _get_renderer may change the figure dpi (as vector formats\u001b[39;00m\n\u001b[0;32m   2202\u001b[0m     \u001b[38;5;66;03m# force the figure dpi to 72), so we need to set it again here.\u001b[39;00m\n\u001b[0;32m   2203\u001b[0m     \u001b[38;5;28;01mwith\u001b[39;00m cbook\u001b[38;5;241m.\u001b[39m_setattr_cm(\u001b[38;5;28mself\u001b[39m\u001b[38;5;241m.\u001b[39mfigure, dpi\u001b[38;5;241m=\u001b[39mdpi):\n\u001b[1;32m-> 2204\u001b[0m         result \u001b[38;5;241m=\u001b[39m print_method(\n\u001b[0;32m   2205\u001b[0m             filename,\n\u001b[0;32m   2206\u001b[0m             facecolor\u001b[38;5;241m=\u001b[39mfacecolor,\n\u001b[0;32m   2207\u001b[0m             edgecolor\u001b[38;5;241m=\u001b[39medgecolor,\n\u001b[0;32m   2208\u001b[0m             orientation\u001b[38;5;241m=\u001b[39morientation,\n\u001b[0;32m   2209\u001b[0m             bbox_inches_restore\u001b[38;5;241m=\u001b[39m_bbox_inches_restore,\n\u001b[0;32m   2210\u001b[0m             \u001b[38;5;241m*\u001b[39m\u001b[38;5;241m*\u001b[39mkwargs)\n\u001b[0;32m   2211\u001b[0m \u001b[38;5;28;01mfinally\u001b[39;00m:\n\u001b[0;32m   2212\u001b[0m     \u001b[38;5;28;01mif\u001b[39;00m bbox_inches \u001b[38;5;129;01mand\u001b[39;00m restore_bbox:\n",
      "File \u001b[1;32m~\\anaconda3\\Lib\\site-packages\\matplotlib\\backend_bases.py:2054\u001b[0m, in \u001b[0;36mFigureCanvasBase._switch_canvas_and_return_print_method.<locals>.<lambda>\u001b[1;34m(*args, **kwargs)\u001b[0m\n\u001b[0;32m   2050\u001b[0m     optional_kws \u001b[38;5;241m=\u001b[39m {  \u001b[38;5;66;03m# Passed by print_figure for other renderers.\u001b[39;00m\n\u001b[0;32m   2051\u001b[0m         \u001b[38;5;124m\"\u001b[39m\u001b[38;5;124mdpi\u001b[39m\u001b[38;5;124m\"\u001b[39m, \u001b[38;5;124m\"\u001b[39m\u001b[38;5;124mfacecolor\u001b[39m\u001b[38;5;124m\"\u001b[39m, \u001b[38;5;124m\"\u001b[39m\u001b[38;5;124medgecolor\u001b[39m\u001b[38;5;124m\"\u001b[39m, \u001b[38;5;124m\"\u001b[39m\u001b[38;5;124morientation\u001b[39m\u001b[38;5;124m\"\u001b[39m,\n\u001b[0;32m   2052\u001b[0m         \u001b[38;5;124m\"\u001b[39m\u001b[38;5;124mbbox_inches_restore\u001b[39m\u001b[38;5;124m\"\u001b[39m}\n\u001b[0;32m   2053\u001b[0m     skip \u001b[38;5;241m=\u001b[39m optional_kws \u001b[38;5;241m-\u001b[39m {\u001b[38;5;241m*\u001b[39minspect\u001b[38;5;241m.\u001b[39msignature(meth)\u001b[38;5;241m.\u001b[39mparameters}\n\u001b[1;32m-> 2054\u001b[0m     print_method \u001b[38;5;241m=\u001b[39m functools\u001b[38;5;241m.\u001b[39mwraps(meth)(\u001b[38;5;28;01mlambda\u001b[39;00m \u001b[38;5;241m*\u001b[39margs, \u001b[38;5;241m*\u001b[39m\u001b[38;5;241m*\u001b[39mkwargs: meth(\n\u001b[0;32m   2055\u001b[0m         \u001b[38;5;241m*\u001b[39margs, \u001b[38;5;241m*\u001b[39m\u001b[38;5;241m*\u001b[39m{k: v \u001b[38;5;28;01mfor\u001b[39;00m k, v \u001b[38;5;129;01min\u001b[39;00m kwargs\u001b[38;5;241m.\u001b[39mitems() \u001b[38;5;28;01mif\u001b[39;00m k \u001b[38;5;129;01mnot\u001b[39;00m \u001b[38;5;129;01min\u001b[39;00m skip}))\n\u001b[0;32m   2056\u001b[0m \u001b[38;5;28;01melse\u001b[39;00m:  \u001b[38;5;66;03m# Let third-parties do as they see fit.\u001b[39;00m\n\u001b[0;32m   2057\u001b[0m     print_method \u001b[38;5;241m=\u001b[39m meth\n",
      "File \u001b[1;32m~\\anaconda3\\Lib\\site-packages\\matplotlib\\backends\\backend_agg.py:496\u001b[0m, in \u001b[0;36mFigureCanvasAgg.print_png\u001b[1;34m(self, filename_or_obj, metadata, pil_kwargs)\u001b[0m\n\u001b[0;32m    449\u001b[0m \u001b[38;5;28;01mdef\u001b[39;00m \u001b[38;5;21mprint_png\u001b[39m(\u001b[38;5;28mself\u001b[39m, filename_or_obj, \u001b[38;5;241m*\u001b[39m, metadata\u001b[38;5;241m=\u001b[39m\u001b[38;5;28;01mNone\u001b[39;00m, pil_kwargs\u001b[38;5;241m=\u001b[39m\u001b[38;5;28;01mNone\u001b[39;00m):\n\u001b[0;32m    450\u001b[0m \u001b[38;5;250m    \u001b[39m\u001b[38;5;124;03m\"\"\"\u001b[39;00m\n\u001b[0;32m    451\u001b[0m \u001b[38;5;124;03m    Write the figure to a PNG file.\u001b[39;00m\n\u001b[0;32m    452\u001b[0m \n\u001b[1;32m   (...)\u001b[0m\n\u001b[0;32m    494\u001b[0m \u001b[38;5;124;03m        *metadata*, including the default 'Software' key.\u001b[39;00m\n\u001b[0;32m    495\u001b[0m \u001b[38;5;124;03m    \"\"\"\u001b[39;00m\n\u001b[1;32m--> 496\u001b[0m     \u001b[38;5;28mself\u001b[39m\u001b[38;5;241m.\u001b[39m_print_pil(filename_or_obj, \u001b[38;5;124m\"\u001b[39m\u001b[38;5;124mpng\u001b[39m\u001b[38;5;124m\"\u001b[39m, pil_kwargs, metadata)\n",
      "File \u001b[1;32m~\\anaconda3\\Lib\\site-packages\\matplotlib\\backends\\backend_agg.py:445\u001b[0m, in \u001b[0;36mFigureCanvasAgg._print_pil\u001b[1;34m(self, filename_or_obj, fmt, pil_kwargs, metadata)\u001b[0m\n\u001b[0;32m    440\u001b[0m \u001b[38;5;250m\u001b[39m\u001b[38;5;124;03m\"\"\"\u001b[39;00m\n\u001b[0;32m    441\u001b[0m \u001b[38;5;124;03mDraw the canvas, then save it using `.image.imsave` (to which\u001b[39;00m\n\u001b[0;32m    442\u001b[0m \u001b[38;5;124;03m*pil_kwargs* and *metadata* are forwarded).\u001b[39;00m\n\u001b[0;32m    443\u001b[0m \u001b[38;5;124;03m\"\"\"\u001b[39;00m\n\u001b[0;32m    444\u001b[0m FigureCanvasAgg\u001b[38;5;241m.\u001b[39mdraw(\u001b[38;5;28mself\u001b[39m)\n\u001b[1;32m--> 445\u001b[0m mpl\u001b[38;5;241m.\u001b[39mimage\u001b[38;5;241m.\u001b[39mimsave(\n\u001b[0;32m    446\u001b[0m     filename_or_obj, \u001b[38;5;28mself\u001b[39m\u001b[38;5;241m.\u001b[39mbuffer_rgba(), \u001b[38;5;28mformat\u001b[39m\u001b[38;5;241m=\u001b[39mfmt, origin\u001b[38;5;241m=\u001b[39m\u001b[38;5;124m\"\u001b[39m\u001b[38;5;124mupper\u001b[39m\u001b[38;5;124m\"\u001b[39m,\n\u001b[0;32m    447\u001b[0m     dpi\u001b[38;5;241m=\u001b[39m\u001b[38;5;28mself\u001b[39m\u001b[38;5;241m.\u001b[39mfigure\u001b[38;5;241m.\u001b[39mdpi, metadata\u001b[38;5;241m=\u001b[39mmetadata, pil_kwargs\u001b[38;5;241m=\u001b[39mpil_kwargs)\n",
      "File \u001b[1;32m~\\anaconda3\\Lib\\site-packages\\matplotlib\\image.py:1676\u001b[0m, in \u001b[0;36mimsave\u001b[1;34m(fname, arr, vmin, vmax, cmap, format, origin, dpi, metadata, pil_kwargs)\u001b[0m\n\u001b[0;32m   1674\u001b[0m pil_kwargs\u001b[38;5;241m.\u001b[39msetdefault(\u001b[38;5;124m\"\u001b[39m\u001b[38;5;124mformat\u001b[39m\u001b[38;5;124m\"\u001b[39m, \u001b[38;5;28mformat\u001b[39m)\n\u001b[0;32m   1675\u001b[0m pil_kwargs\u001b[38;5;241m.\u001b[39msetdefault(\u001b[38;5;124m\"\u001b[39m\u001b[38;5;124mdpi\u001b[39m\u001b[38;5;124m\"\u001b[39m, (dpi, dpi))\n\u001b[1;32m-> 1676\u001b[0m image\u001b[38;5;241m.\u001b[39msave(fname, \u001b[38;5;241m*\u001b[39m\u001b[38;5;241m*\u001b[39mpil_kwargs)\n",
      "File \u001b[1;32m~\\anaconda3\\Lib\\site-packages\\PIL\\Image.py:2563\u001b[0m, in \u001b[0;36mImage.save\u001b[1;34m(self, fp, format, **params)\u001b[0m\n\u001b[0;32m   2561\u001b[0m         fp \u001b[38;5;241m=\u001b[39m builtins\u001b[38;5;241m.\u001b[39mopen(filename, \u001b[38;5;124m\"\u001b[39m\u001b[38;5;124mr+b\u001b[39m\u001b[38;5;124m\"\u001b[39m)\n\u001b[0;32m   2562\u001b[0m     \u001b[38;5;28;01melse\u001b[39;00m:\n\u001b[1;32m-> 2563\u001b[0m         fp \u001b[38;5;241m=\u001b[39m builtins\u001b[38;5;241m.\u001b[39mopen(filename, \u001b[38;5;124m\"\u001b[39m\u001b[38;5;124mw+b\u001b[39m\u001b[38;5;124m\"\u001b[39m)\n\u001b[0;32m   2564\u001b[0m \u001b[38;5;28;01melse\u001b[39;00m:\n\u001b[0;32m   2565\u001b[0m     fp \u001b[38;5;241m=\u001b[39m cast(IO[\u001b[38;5;28mbytes\u001b[39m], fp)\n",
      "\u001b[1;31mFileNotFoundError\u001b[0m: [Errno 2] No such file or directory: 'D:\\\\Python Project - Dataset\\\\chart3.png'"
     ]
    },
    {
     "data": {
      "image/png": "[encoded data removed]",
      "text/plain": [
       "<Figure size 1000x600 with 1 Axes>"
      ]
     },
     "metadata": {},
     "output_type": "display_data"
    }
   ],
   "source": [
    "# Visualization: Line chart for average call duration across months\n",
    "plt.figure(figsize=(10,6))\n",
    "avg_duration_per_month.plot(kind='line', marker='o', color='#66b3ff', linestyle='-', linewidth=2)\n",
    "\n",
    "# Adding titles and labels\n",
    "plt.title('Average Duration of Customer Calls Across Different Months', fontsize=16, fontweight='bold')\n",
    "plt.xlabel('Month', fontsize=12)\n",
    "plt.ylabel('Average Duration (seconds)', fontsize=12)\n",
    "\n",
    "# Show the plot\n",
    "plt.xticks(rotation=45)\n",
    "plt.grid(True)\n",
    "plt.tight_layout()\n",
    "plt.savefig(r\"D:\\Python Project - Dataset\\chart3.png\", dpi=300, bbox_inches='tight')\n",
    "plt.show()"
   ]
  },
  {
   "cell_type": "markdown",
   "id": "68cbd0f6-8045-407b-b606-b793d487787e",
   "metadata": {},
   "source": [
    "## **Report**\n",
    " \n",
    " ### The analysis shows how the average duration of customer calls varies across different months. The line chart indicates fluctuations in call duration over the year. Some months show longer call durations, while others have shorter averages. This trend could reflect seasonal marketing efforts or customer engagement patterns. The visualization helps understand how call durations change over time, which can be useful for evaluating the effectiveness of campaigns or customer service performance.\n"
   ]
  },
  {
   "cell_type": "markdown",
   "id": "4f5ce7ef-c846-433a-b941-8075990a5c87",
   "metadata": {},
   "source": [
    "## 5. What is the distribution of marital status (married/single/divorced) across different education levels?"
   ]
  },
  {
   "cell_type": "code",
   "execution_count": 233,
   "id": "77366a91-9742-484f-8efa-2a50d19b62a7",
   "metadata": {},
   "outputs": [
    {
     "name": "stderr",
     "output_type": "stream",
     "text": [
      "C:\\Users\\mohit\\AppData\\Local\\Temp\\ipykernel_6756\\2751116247.py:2: FutureWarning: The default of observed=False is deprecated and will be changed to True in a future version of pandas. Pass observed=False to retain current behavior or observed=True to adopt the future default and silence this warning.\n",
      "  education_marital_counts = df.groupby(['Education', 'Marital_Status']).size().unstack(fill_value=0)\n"
     ]
    },
    {
     "data": {
      "text/html": [
       "<div>\n",
       "<style scoped>\n",
       "    .dataframe tbody tr th:only-of-type {\n",
       "        vertical-align: middle;\n",
       "    }\n",
       "\n",
       "    .dataframe tbody tr th {\n",
       "        vertical-align: top;\n",
       "    }\n",
       "\n",
       "    .dataframe thead th {\n",
       "        text-align: right;\n",
       "    }\n",
       "</style>\n",
       "<table border=\"1\" class=\"dataframe\">\n",
       "  <thead>\n",
       "    <tr style=\"text-align: right;\">\n",
       "      <th>Marital_Status</th>\n",
       "      <th>divorced</th>\n",
       "      <th>married</th>\n",
       "      <th>single</th>\n",
       "    </tr>\n",
       "    <tr>\n",
       "      <th>Education</th>\n",
       "      <th></th>\n",
       "      <th></th>\n",
       "      <th></th>\n",
       "    </tr>\n",
       "  </thead>\n",
       "  <tbody>\n",
       "    <tr>\n",
       "      <th>primary</th>\n",
       "      <td>79</td>\n",
       "      <td>526</td>\n",
       "      <td>73</td>\n",
       "    </tr>\n",
       "    <tr>\n",
       "      <th>secondary</th>\n",
       "      <td>270</td>\n",
       "      <td>1427</td>\n",
       "      <td>609</td>\n",
       "    </tr>\n",
       "    <tr>\n",
       "      <th>tertiary</th>\n",
       "      <td>155</td>\n",
       "      <td>727</td>\n",
       "      <td>468</td>\n",
       "    </tr>\n",
       "    <tr>\n",
       "      <th>unknown</th>\n",
       "      <td>24</td>\n",
       "      <td>117</td>\n",
       "      <td>46</td>\n",
       "    </tr>\n",
       "  </tbody>\n",
       "</table>\n",
       "</div>"
      ],
      "text/plain": [
       "Marital_Status  divorced  married  single\n",
       "Education                                \n",
       "primary               79      526      73\n",
       "secondary            270     1427     609\n",
       "tertiary             155      727     468\n",
       "unknown               24      117      46"
      ]
     },
     "execution_count": 233,
     "metadata": {},
     "output_type": "execute_result"
    }
   ],
   "source": [
    "# Group by 'Education' and 'Marital_Status' to get the count of each marital status for each education level\n",
    "education_marital_counts = df.groupby(['Education', 'Marital_Status']).size().unstack(fill_value=0)\n",
    "education_marital_counts"
   ]
  },
  {
   "cell_type": "code",
   "execution_count": 245,
   "id": "0f9da779-ed70-47e7-9e5a-cbb10658523b",
   "metadata": {},
   "outputs": [
    {
     "data": {
      "image/png": "[encoded data removed]",
      "text/plain": [
       "<Figure size 800x600 with 1 Axes>"
      ]
     },
     "metadata": {},
     "output_type": "display_data"
    }
   ],
   "source": [
    "# Plotting the stacked bar chart\n",
    "education_marital_counts.plot(kind='bar', stacked=True, color=['#66b3ff', '#ff9999', '#ffcc66'], figsize=(8,6))\n",
    "\n",
    "# Adding titles and labels\n",
    "plt.title('Distribution of Marital Status Across Different Education Levels', fontsize=16, fontweight='bold')\n",
    "plt.xlabel('Education Level', fontsize=12)\n",
    "plt.ylabel('Number of Individuals', fontsize=12)\n",
    "\n",
    "# Show the plot\n",
    "\n",
    "plt.tight_layout()\n",
    "plt.show()\n"
   ]
  },
  {
   "cell_type": "markdown",
   "id": "3ba87e4b-7a00-49c9-98f1-3abfb9f94580",
   "metadata": {},
   "source": [
    "## **Report** \n",
    "The analysis visualizes the distribution of marital status across education levels. Higher education levels show a more balanced marital status, while lower levels have more single individuals. This highlights how marital status varies with education. The chart offers valuable insights for demographic analysis and marketing strategies.\n"
   ]
  },
  {
   "cell_type": "markdown",
   "id": "6e75498c-3291-4fa1-a1bb-5fa21287d6e7",
   "metadata": {},
   "source": [
    " # Final Insights\n",
    "\n",
    "\n",
    "## The project involves analyzing the UCI Bank Marketing Dataset to uncover key insights related to customer behavior. Some major points include:\n",
    "\n",
    "\n",
    "### 1) Analyzing the marital status of unemployed individuals.\n",
    "### 2) Comparing the average age of those who subscribed to term deposits versus those who did not. \n",
    "### 3) Examining monthly fluctuations in average balances and call durations.\n",
    "### 4) Investigating how marital status is distributed across different education levels.\n",
    "<br><br><br>"
   ]
  },
  {
   "cell_type": "markdown",
   "id": "7e1995dc-2c42-448c-8158-a61da267f239",
   "metadata": {},
   "source": [
    "\n",
    "\n",
    "# Recomendation for Bank\n",
    "\n",
    "## Based on the analysis of the bank data, here are some recommendations:\n",
    "\n",
    "\n",
    "### 1) Target Marketing: Tailor marketing campaigns based on marital status, education, and age to improve customer engagement, especially for term deposit subscriptions.\n",
    "\n",
    "### 2) Improve Customer Support: Focus on reducing call duration and improving service efficiency to enhance customer satisfaction.\n",
    "\n",
    "### 3) Monthly Monitoring: Regularly monitor balances and call durations to identify trends and tailor customer offers effectively.\n",
    "\n",
    "### 4) Personalized Offers: Create specific product offers based on the loan and housing status of customers.\n"
   ]
  },
  {
   "cell_type": "code",
   "execution_count": null,
   "id": "8d18a42f-86af-453f-b190-532368b096cb",
   "metadata": {},
   "outputs": [],
   "source": []
  }
 ],
 "metadata": {
  "kernelspec": {
   "display_name": "Python [conda env:base] *",
   "language": "python",
   "name": "conda-base-py"
  },
  "language_info": {
   "codemirror_mode": {
    "name": "ipython",
    "version": 3
   },
   "file_extension": ".py",
   "mimetype": "text/x-python",
   "name": "python",
   "nbconvert_exporter": "python",
   "pygments_lexer": "ipython3",
   "version": "3.12.7"
  }
 },
 "nbformat": 4,
 "nbformat_minor": 5
}
